{
  "nbformat": 4,
  "nbformat_minor": 0,
  "metadata": {
    "accelerator": "GPU",
    "colab": {
      "name": "DAL_seq2seq_train.ipynb",
      "provenance": [],
      "collapsed_sections": [
        "viCLL6R4Awm1"
      ],
      "include_colab_link": true
    },
    "kernelspec": {
      "display_name": "Python 3",
      "name": "python3"
    }
  },
  "cells": [
    {
      "cell_type": "markdown",
      "metadata": {
        "id": "view-in-github",
        "colab_type": "text"
      },
      "source": [
        "<a href=\"https://colab.research.google.com/github/deterministic-algorithms-lab/PunctFormer/blob/main/notebooks/seq2seq_train.ipynb\" target=\"_parent\"><img src=\"https://colab.research.google.com/assets/colab-badge.svg\" alt=\"Open In Colab\"/></a>"
      ]
    },
    {
      "cell_type": "markdown",
      "metadata": {
        "id": "LpVEspDHlAiS"
      },
      "source": [
        "Approaches:\n",
        "\n",
        "1. LSTM for next word(here punctuations) predictions\n",
        "2. Next word(punctuation) prediction using Transformer\n",
        "3. **Simple Seq2Seq model using Transformers**\n",
        "4. Smaller model from scratch pre-train and then finetune for punctuation restoration\n",
        "\n",
        "[https://discuss.huggingface.co/t/how-to-train-a-translation-model-from-scratch/160/7](https://discuss.huggingface.co/t/how-to-train-a-translation-model-from-scratch/160/7)\n"
      ]
    },
    {
      "cell_type": "code",
      "metadata": {
        "id": "Ly9PB6OiCLuc"
      },
      "source": [
        "!pip install cloud-tpu-client==0.10 https://storage.googleapis.com/tpu-pytorch/wheels/torch_xla-1.7-cp36-cp36m-linux_x86_64.whl"
      ],
      "execution_count": null,
      "outputs": []
    },
    {
      "cell_type": "code",
      "metadata": {
        "id": "U5yyS9Vs1rzm"
      },
      "source": [
        "!git clone https://github.com/huggingface/transformers.git\n",
        "!pip install -e /content/transformers\n",
        "\n",
        "!pip install wandb"
      ],
      "execution_count": null,
      "outputs": []
    },
    {
      "cell_type": "code",
      "metadata": {
        "id": "UFxtnuHD1Bx-"
      },
      "source": [
        "!pip install -r \"/content/transformers/examples/requirements.txt\"\n",
        "!pip install --upgrade pyarrow"
      ],
      "execution_count": null,
      "outputs": []
    },
    {
      "cell_type": "code",
      "metadata": {
        "id": "lg91jb2E4DUb"
      },
      "source": [
        "!pip install --upgrade  transformers"
      ],
      "execution_count": null,
      "outputs": []
    },
    {
      "cell_type": "code",
      "metadata": {
        "colab": {
          "base_uri": "https://localhost:8080/"
        },
        "id": "q_S8I4m-r2xL",
        "outputId": "4069bebb-a7f1-4f4e-e277-b6a5ab6674bc"
      },
      "source": [
        "from google.colab import drive\n",
        "drive.mount('/content/gdrive')"
      ],
      "execution_count": null,
      "outputs": [
        {
          "output_type": "stream",
          "text": [
            "Mounted at /content/gdrive\n"
          ],
          "name": "stdout"
        }
      ]
    },
    {
      "cell_type": "code",
      "metadata": {
        "id": "fUUcb3jleiPK",
        "colab": {
          "base_uri": "https://localhost:8080/"
        },
        "outputId": "c4bdadd4-9081-4fab-8b1e-7e367b22f68f"
      },
      "source": [
        "!wandb login"
      ],
      "execution_count": null,
      "outputs": [
        {
          "output_type": "stream",
          "text": [
            "\u001b[34m\u001b[1mwandb\u001b[0m: You can find your API key in your browser here: https://wandb.ai/authorize\n",
            "\u001b[34m\u001b[1mwandb\u001b[0m: Paste an API key from your profile and hit enter: \n",
            "\u001b[34m\u001b[1mwandb\u001b[0m: Appending key for api.wandb.ai to your netrc file: /root/.netrc\n"
          ],
          "name": "stdout"
        }
      ]
    },
    {
      "cell_type": "markdown",
      "metadata": {
        "id": "2xoHhz4ISQaH"
      },
      "source": [
        "Restart runtime"
      ]
    },
    {
      "cell_type": "code",
      "metadata": {
        "id": "RtYXcL-NW3Ha"
      },
      "source": [
        "import gc\n",
        "import logging\n",
        "\n",
        "import torch\n",
        "\n",
        "import numpy as np\n",
        "import pandas as pd"
      ],
      "execution_count": null,
      "outputs": []
    },
    {
      "cell_type": "markdown",
      "metadata": {
        "id": "-Wsi6cHnAsOK"
      },
      "source": [
        "## Data collectiona and separation"
      ]
    },
    {
      "cell_type": "markdown",
      "metadata": {
        "id": "tc9usMCySVWl"
      },
      "source": [
        "different files for training data"
      ]
    },
    {
      "cell_type": "code",
      "metadata": {
        "id": "k_YjSRiQaCIW"
      },
      "source": [
        "!wget http://hltshare.fbk.eu/IWSLT2012/IWSLT12.TALK.train.en"
      ],
      "execution_count": null,
      "outputs": []
    },
    {
      "cell_type": "code",
      "metadata": {
        "id": "b7qwfNfkd6kA"
      },
      "source": [
        "!wget http://hltshare.fbk.eu/IWSLT2012/training-monolingual-europarl.tgz"
      ],
      "execution_count": null,
      "outputs": []
    },
    {
      "cell_type": "code",
      "metadata": {
        "id": "qVdXga8bzteX"
      },
      "source": [
        "!wget https://www.statmt.org/europarl/v7/fr-en.tgz"
      ],
      "execution_count": null,
      "outputs": []
    },
    {
      "cell_type": "code",
      "metadata": {
        "id": "l8vlKAOEladQ"
      },
      "source": [
        "!tar -xvf /content/fr-en.tgz"
      ],
      "execution_count": null,
      "outputs": []
    },
    {
      "cell_type": "code",
      "metadata": {
        "id": "Lg6Hvtv9lckk"
      },
      "source": [
        ""
      ],
      "execution_count": null,
      "outputs": []
    },
    {
      "cell_type": "code",
      "metadata": {
        "id": "zjwNGebPlb_4"
      },
      "source": [
        ""
      ],
      "execution_count": null,
      "outputs": []
    },
    {
      "cell_type": "code",
      "metadata": {
        "id": "KM4biJMDlp-_"
      },
      "source": [
        "with open(\"/content/training-monolingual-europarl/europarl-v7.en\") as fp:\n",
        "    lines = fp.readlines()"
      ],
      "execution_count": null,
      "outputs": []
    },
    {
      "cell_type": "code",
      "metadata": {
        "id": "V6Ss7uzfHMIO"
      },
      "source": [
        "#lines = lines[:int(len(lines) * 0.1)]"
      ],
      "execution_count": null,
      "outputs": []
    },
    {
      "cell_type": "code",
      "metadata": {
        "id": "OafaQUmvb0FI"
      },
      "source": [
        "import string"
      ],
      "execution_count": null,
      "outputs": []
    },
    {
      "cell_type": "code",
      "metadata": {
        "id": "tbPwutY_at2x"
      },
      "source": [
        "punctuations = \"?!,-:;.\""
      ],
      "execution_count": null,
      "outputs": []
    },
    {
      "cell_type": "code",
      "metadata": {
        "id": "dkaWoI61gCHO"
      },
      "source": [
        "def cleanString(strval):\n",
        "    return \"\".join(\" \" if i in punctuations else i for i in strval.lower().strip(punctuations))"
      ],
      "execution_count": null,
      "outputs": []
    },
    {
      "cell_type": "code",
      "metadata": {
        "id": "9cFPDkY4atz3"
      },
      "source": [
        "dest = []\n",
        "for i, line in enumerate(lines):\n",
        "    lines[i] = line.replace(\"\\n\", \"\")\n",
        "    s = \" \".join(cleanString(i) for i in line.split())\n",
        "    dest.append(s)"
      ],
      "execution_count": null,
      "outputs": []
    },
    {
      "cell_type": "code",
      "metadata": {
        "id": "_hl6l7F-1JW-"
      },
      "source": [
        "len(lines), len(dest)"
      ],
      "execution_count": null,
      "outputs": []
    },
    {
      "cell_type": "code",
      "metadata": {
        "id": "C1_nAnEIzQkj"
      },
      "source": [
        "lines[:100]"
      ],
      "execution_count": null,
      "outputs": []
    },
    {
      "cell_type": "code",
      "metadata": {
        "id": "rpTJEKSuatuI"
      },
      "source": [
        "dest[:100]"
      ],
      "execution_count": null,
      "outputs": []
    },
    {
      "cell_type": "code",
      "metadata": {
        "id": "DlDs_rw5aZot"
      },
      "source": [
        "df = pd.DataFrame({\"input_text\":dest, \"target_text\":lines})"
      ],
      "execution_count": null,
      "outputs": []
    },
    {
      "cell_type": "code",
      "metadata": {
        "id": "_aT4Gmuig81a"
      },
      "source": [
        "df"
      ],
      "execution_count": null,
      "outputs": []
    },
    {
      "cell_type": "code",
      "metadata": {
        "id": "jH5kBOyPg8pK"
      },
      "source": [
        "from sklearn.model_selection import train_test_split"
      ],
      "execution_count": null,
      "outputs": []
    },
    {
      "cell_type": "code",
      "metadata": {
        "id": "XK12Px77iDLm"
      },
      "source": [
        "df"
      ],
      "execution_count": null,
      "outputs": []
    },
    {
      "cell_type": "code",
      "metadata": {
        "id": "KpxGPKuChXOj"
      },
      "source": [
        "train_data, eval_data = train_test_split(df, test_size=0.3)\n",
        "eval_data, test_data = train_test_split(eval_data, test_size=0.5)\n",
        "\n",
        "train_df = train_data\n",
        "eval_df = eval_data\n",
        "test_df = test_data"
      ],
      "execution_count": null,
      "outputs": []
    },
    {
      "cell_type": "code",
      "metadata": {
        "id": "81ALU0BOpsP2"
      },
      "source": [
        "train_df.isna().sum()"
      ],
      "execution_count": null,
      "outputs": []
    },
    {
      "cell_type": "code",
      "metadata": {
        "id": "cjBgqiRXpuiD"
      },
      "source": [
        "eval_df.isna().sum()"
      ],
      "execution_count": null,
      "outputs": []
    },
    {
      "cell_type": "markdown",
      "metadata": {
        "id": "DEeKkqWqiaBT"
      },
      "source": [
        "---"
      ]
    },
    {
      "cell_type": "code",
      "metadata": {
        "id": "QpZcSDV2HwmX"
      },
      "source": [
        "logging.basicConfig(level=logging.INFO)\n",
        "transformers_logger = logging.getLogger(\"transformers\")\n",
        "transformers_logger.setLevel(logging.WARNING)\n"
      ],
      "execution_count": null,
      "outputs": []
    },
    {
      "cell_type": "code",
      "metadata": {
        "id": "rmC8Gib-ppMb"
      },
      "source": [
        "train_df"
      ],
      "execution_count": null,
      "outputs": []
    },
    {
      "cell_type": "markdown",
      "metadata": {
        "id": "oAN6TWu4ibMM"
      },
      "source": [
        "---"
      ]
    },
    {
      "cell_type": "code",
      "metadata": {
        "id": "GemoDbvxsZ0s"
      },
      "source": [
        "!cp -r /content/outputs/best_model /content/gdrive/MyDrive/DAL/punctuation/bart"
      ],
      "execution_count": null,
      "outputs": []
    },
    {
      "cell_type": "code",
      "metadata": {
        "id": "OBn8EBfqjfAC"
      },
      "source": [
        "gc.collect()"
      ],
      "execution_count": null,
      "outputs": []
    },
    {
      "cell_type": "markdown",
      "metadata": {
        "id": "rS6HUzY3ZoRj"
      },
      "source": [
        "# TPU - Europarlv7  with ?!,-:;."
      ]
    },
    {
      "cell_type": "code",
      "metadata": {
        "id": "3L9rxEfuZoRj"
      },
      "source": [
        "train_df[\"input_text\"].apply(lambda x:len(x.split(\" \"))).sum()"
      ],
      "execution_count": null,
      "outputs": []
    },
    {
      "cell_type": "code",
      "metadata": {
        "id": "H6-S63DHZoRj"
      },
      "source": [
        "for ix in train_df.index:\n",
        "    \n",
        "    src_txt = train_df[\"input_text\"][ix]\n",
        "    if src_txt==\"\":\n",
        "        print(ix)"
      ],
      "execution_count": null,
      "outputs": []
    },
    {
      "cell_type": "code",
      "metadata": {
        "id": "UAETE29J38iV"
      },
      "source": [
        "train_df[\"target_text\"].values[:100]"
      ],
      "execution_count": null,
      "outputs": []
    },
    {
      "cell_type": "markdown",
      "metadata": {
        "id": "gLcsZjtkSeJa"
      },
      "source": [
        "data needs to be in the files\r\n",
        "\r\n",
        "- train.source\r\n",
        "- train.target\r\n",
        "- val.source\r\n",
        "- val.target\r\n",
        "- test.source\r\n",
        "- test.target"
      ]
    },
    {
      "cell_type": "code",
      "metadata": {
        "id": "dydQJFClZoRj"
      },
      "source": [
        "with open(\"/content/gdrive/MyDrive/DAL/punctuation/data_europarl7/train.source\", 'w') as fp_src:\n",
        "    with open(\"/content/gdrive/MyDrive/DAL/punctuation/data_europarl7/train.target\", 'w') as fp_tgt:\n",
        "        for ix in train_df.index:\n",
        "            src_txt = train_df[\"input_text\"][ix]\n",
        "            dest_txt = train_df[\"target_text\"][ix]\n",
        "            #skipping empty strings\n",
        "            if src_txt != \"\":\n",
        "                fp_src.write(\"{}\\n\".format(src_txt))\n",
        "                fp_tgt.write(\"{}\\n\".format(dest_txt))\n",
        "\n",
        "gc.collect()\n",
        "\n",
        "with open(\"/content/gdrive/MyDrive/DAL/punctuation/data_europarl7/val.source\", 'w') as fp_src:\n",
        "    with open(\"/content/gdrive/MyDrive/DAL/punctuation/data_europarl7/val.target\", 'w') as fp_tgt:\n",
        "        for ix in eval_df.index:\n",
        "            src_txt = eval_df[\"input_text\"][ix]\n",
        "            dest_txt = eval_df[\"target_text\"][ix]\n",
        "            #skipping empty strings\n",
        "            if src_txt != \"\":\n",
        "                fp_src.write(\"{}\\n\".format(src_txt))\n",
        "                fp_tgt.write(\"{}\\n\".format(dest_txt))\n",
        "\n",
        "gc.collect()\n",
        "\n",
        "with open(\"/content/gdrive/MyDrive/DAL/punctuation/data_europarl7/test.source\", 'w') as fp_src:\n",
        "    with open(\"/content/gdrive/MyDrive/DAL/punctuation/data_europarl7/test.target\", 'w') as fp_tgt:\n",
        "        for ix in test_df.index:\n",
        "            src_txt = test_df[\"input_text\"][ix]\n",
        "            dest_txt = test_df[\"target_text\"][ix]\n",
        "            #skipping empty strings\n",
        "            if src_txt != \"\":\n",
        "                fp_src.write(\"{}\\n\".format(src_txt))\n",
        "                fp_tgt.write(\"{}\\n\".format(dest_txt))\n",
        "\n",
        "gc.collect()"
      ],
      "execution_count": null,
      "outputs": []
    },
    {
      "cell_type": "code",
      "metadata": {
        "id": "4f2sq2SD5Rng"
      },
      "source": [
        "with open(\"/content/gdrive/MyDrive/DAL/punctuation/data_europarl7/train.source\", 'r') as fp_src:\n",
        "    with open(\"/content/gdrive/MyDrive/DAL/punctuation/data_europarl7/train.target\", 'r') as fp_tgt:\n",
        "        print(\"train: \", fp_src.read(1000), \"\\n\\nop:\", fp_tgt.read(1000))\n",
        "\n",
        "gc.collect()\n",
        "\n",
        "with open(\"/content/gdrive/MyDrive/DAL/punctuation/data_europarl7/val.source\", 'r') as fp_src:\n",
        "    with open(\"/content/gdrive/MyDrive/DAL/punctuation/data_europarl7/val.target\", 'r') as fp_tgt:\n",
        "        print(\"\\n\\n\\n\\neval: \", fp_src.read(1000), \"\\n\\nop:\", fp_tgt.read(1000))\n",
        "\n",
        "\n",
        "gc.collect()"
      ],
      "execution_count": null,
      "outputs": []
    },
    {
      "cell_type": "code",
      "metadata": {
        "id": "eEm4h4ORZoRj"
      },
      "source": [
        "!python \"/content/transformers/examples/seq2seq/finetune.py\" --help"
      ],
      "execution_count": null,
      "outputs": []
    },
    {
      "cell_type": "code",
      "metadata": {
        "id": "cQNVmJlBZoRk"
      },
      "source": [
        "gc.collect()"
      ],
      "execution_count": null,
      "outputs": []
    },
    {
      "cell_type": "markdown",
      "metadata": {
        "id": "QVRKazCsTH6s"
      },
      "source": [
        "initial checkpoints from a pretrained hosted model"
      ]
    },
    {
      "cell_type": "code",
      "metadata": {
        "id": "BvzJR4mpZoRk"
      },
      "source": [
        "#set --output_dir to drive to avoid data loss in case of\n",
        "#runtime disconnect\n",
        "!python \"/content/transformers/examples/seq2seq/finetune_trainer.py\" \\\n",
        "    --tpu_cores 1\\\n",
        "    --do_train \\\n",
        "    --train_batch_size 32 \\\n",
        "    --eval_batch_size 32\\\n",
        "    --num_train_epochs 1\\\n",
        "    --max_source_length 32\\\n",
        "    --max_target_length 32\\\n",
        "    --seed 108 \\\n",
        "    --n_val 1000 \\\n",
        "    --save_top_k 3\\\n",
        "    --val_check_interval 0.1 \\\n",
        "    --data_dir \"/content/gdrive/MyDrive/DAL/punctuation/data\" \\\n",
        "    --model_name_or_path \"bart-base\" \\\n",
        "    --output_dir \"/content/op\"\\\n",
        "    #--fp16"
      ],
      "execution_count": null,
      "outputs": []
    },
    {
      "cell_type": "code",
      "metadata": {
        "id": "LKsEIJmrZoRk"
      },
      "source": [
        "gc.collect()"
      ],
      "execution_count": null,
      "outputs": []
    },
    {
      "cell_type": "code",
      "metadata": {
        "id": "JjhdYJBGZoRk"
      },
      "source": [
        "with open(\"/content/gdrive/MyDrive/DAL/punctuation/data/train.source\", \"r\") as fp:\n",
        "    lines = fp.readlines()\n",
        "\n",
        "for i, line in enumerate(lines):\n",
        "    if line==\"\\n\":\n",
        "        print(i)"
      ],
      "execution_count": null,
      "outputs": []
    },
    {
      "cell_type": "code",
      "metadata": {
        "id": "IpXMZKwfZoRk"
      },
      "source": [
        "with open(\"/content/gdrive/MyDrive/DAL/punctuation/data/train.target\", \"r\") as fp:\n",
        "    lines = fp.readlines()\n",
        "\n",
        "for i, line in enumerate(lines):\n",
        "    if line==\"\\n\":\n",
        "        print(i)"
      ],
      "execution_count": null,
      "outputs": []
    },
    {
      "cell_type": "code",
      "metadata": {
        "id": "gIRIIAQ-ZoRk"
      },
      "source": [
        ""
      ],
      "execution_count": null,
      "outputs": []
    },
    {
      "cell_type": "markdown",
      "metadata": {
        "id": "cxaSz9qUZoRk"
      },
      "source": [
        "Training on TPU\n",
        "\n",
        "1 epochs\n",
        "1. max src-tgt lengths: 64 & device batch_size =128\n",
        "\n"
      ]
    },
    {
      "cell_type": "code",
      "metadata": {
        "id": "oW9Y9NdbZoRk"
      },
      "source": [
        "gc.collect()"
      ],
      "execution_count": null,
      "outputs": []
    },
    {
      "cell_type": "code",
      "metadata": {
        "id": "8HaQRsTQ459X"
      },
      "source": [
        "!cp -r \"/content/gdrive/MyDrive/DAL/punctuation/bart/europarl7\" \"/content/gdrive/MyDrive/DAL/punctuation/bart/europarl_cap\""
      ],
      "execution_count": null,
      "outputs": []
    },
    {
      "cell_type": "markdown",
      "metadata": {
        "id": "ITuxaWLyTNeN"
      },
      "source": [
        "from our checkpoint "
      ]
    },
    {
      "cell_type": "code",
      "metadata": {
        "id": "jbmdyBB-Eenw"
      },
      "source": [
        "!python \"/content/transformers/examples/xla_spawn.py\" --num_cores 1\\\n",
        "    \"/content/transformers/examples/seq2seq/finetune_trainer.py\" \\\n",
        "        --do_train \\\n",
        "        --num_train_epochs 1 \\\n",
        "        --max_source_length 64 \\\n",
        "        --max_target_length 64 \\\n",
        "        --per_device_train_batch_size 128 \\\n",
        "        --per_device_eval_batch_size 128 \\\n",
        "        --n_val 1000\\\n",
        "        --do_eval \\\n",
        "        --seed 108 \\\n",
        "        --task translation \\\n",
        "        --data_dir \"/content/gdrive/MyDrive/DAL/punctuation/data_europarl7\" \\\n",
        "        --model_name_or_path \"/content/gdrive/MyDrive/DAL/punctuation/bart/europarl_cap\" \\\n",
        "        --output_dir \"/content/gdrive/MyDrive/DAL/punctuation/bart/europarl_cap\"\\\n",
        "        --overwrite_output_dir \\\n",
        "        --prediction_loss_only \\\n",
        "        #--save_top_k 3\\\n",
        "        #--fp16"
      ],
      "execution_count": null,
      "outputs": []
    },
    {
      "cell_type": "markdown",
      "metadata": {
        "id": "sv4drAHOZoRl"
      },
      "source": [
        "# Evaluation"
      ]
    },
    {
      "cell_type": "markdown",
      "metadata": {
        "id": "9LV9w6XBTW8X"
      },
      "source": [
        "Change runtime to GPU for faster evaluation and testing "
      ]
    },
    {
      "cell_type": "code",
      "metadata": {
        "id": "56c-NSTaN63a"
      },
      "source": [
        "!python \"/content/transformers/examples/seq2seq/finetune_trainer.py\" \\\r\n",
        "        --do_predict \\\r\n",
        "        --seed 108 \\\r\n",
        "        --task translation \\\r\n",
        "        --data_dir \"/content/gdrive/MyDrive/DAL/punctuation/data_europarl7\" \\\r\n",
        "        --model_name_or_path \"/content/gdrive/MyDrive/DAL/punctuation/bart/europarl_cap\" \\\r\n",
        "        --output_dir \"/content/gdrive/MyDrive/DAL/punctuation/bart/europarl_cap\"\\\r\n",
        "        --overwrite_output_dir \\\r\n",
        "        --max_source_length 64 \\\r\n",
        "        --per_device_eval_batch_size 1\\\r\n",
        "        #--save_top_k 3\\\r\n",
        "        #--fp16"
      ],
      "execution_count": null,
      "outputs": []
    },
    {
      "cell_type": "code",
      "metadata": {
        "id": "0tL48CoBZoRl"
      },
      "source": [
        "model = BartForConditionalGeneration.from_pretrained(\"facebook/bart-base\", max_length=400)\n",
        "\n",
        "tokenizer = AutoTokenizer.from_pretrained(\"facebook/bart-base\")\n",
        "restore = pipeline('translation_xx_to_yy', model=model.to(\"cuda\"), tokenizer=tokenizer)"
      ],
      "execution_count": null,
      "outputs": []
    },
    {
      "cell_type": "code",
      "metadata": {
        "id": "_IQZ00NGzGom"
      },
      "source": [
        "model = BartForConditionalGeneration.from_pretrained(\"/content/gdrive/MyDrive/DAL/punctuation/bart/europarl_cap\", max_length=50000)\n",
        "\n",
        "tokenizer = AutoTokenizer.from_pretrained(\"/content/gdrive/MyDrive/DAL/punctuation/bart/europarl_cap\")\n",
        "restore = pipeline('translation_xx_to_yy', model=model.to(\"cuda\"), tokenizer=tokenizer, device=0)"
      ],
      "execution_count": null,
      "outputs": []
    },
    {
      "cell_type": "code",
      "metadata": {
        "id": "eFq5m9lWKIgb"
      },
      "source": [
        ""
      ],
      "execution_count": null,
      "outputs": []
    },
    {
      "cell_type": "code",
      "metadata": {
        "colab": {
          "base_uri": "https://localhost:8080/"
        },
        "id": "OHtLjfg0ZoRl",
        "outputId": "76158572-f494-4140-bfe4-ea16dab29757"
      },
      "source": [
        "%%time\n",
        "restore(\"\")"
      ],
      "execution_count": null,
      "outputs": [
        {
          "output_type": "stream",
          "text": [
            "CPU times: user 44.1 ms, sys: 3.17 ms, total: 47.3 ms\n",
            "Wall time: 48.8 ms\n"
          ],
          "name": "stdout"
        },
        {
          "output_type": "execute_result",
          "data": {
            "text/plain": [
              "[{'translation_text': ''}]"
            ]
          },
          "metadata": {
            "tags": []
          },
          "execution_count": 9
        }
      ]
    },
    {
      "cell_type": "code",
      "metadata": {
        "id": "97mU7sBkTNmW"
      },
      "source": [
        "model.config"
      ],
      "execution_count": null,
      "outputs": []
    },
    {
      "cell_type": "code",
      "metadata": {
        "id": "_GPcDNrUTZIk"
      },
      "source": [
        ""
      ],
      "execution_count": null,
      "outputs": []
    },
    {
      "cell_type": "code",
      "metadata": {
        "id": "BbumOx5OZoRl"
      },
      "source": [
        "import numpy as np"
      ],
      "execution_count": null,
      "outputs": []
    },
    {
      "cell_type": "code",
      "metadata": {
        "id": "23tSiEi2RCRv"
      },
      "source": [
        "with open(\"/content/gdrive/MyDrive/DAL/punctuation/data_europarl7/test.target\")as tgt_f, open(\"/content/gdrive/MyDrive/DAL/punctuation/data_europarl7/test.source\") as src_f:\n",
        "    src_lines = src_f.readlines()[:1_000]\n",
        "    dest_lines = tgt_f.readlines()[:1_000]\n"
      ],
      "execution_count": null,
      "outputs": []
    },
    {
      "cell_type": "code",
      "metadata": {
        "id": "LDrWthQ2TycU"
      },
      "source": [
        "for i, line in enumerate(src_lines):\n",
        "    src_lines[i] = line.replace(\"\\n\", \"\")\n",
        "\n",
        "for i, line in enumerate(dest_lines):\n",
        "    dest_lines[i] = line.replace(\"\\n\", \"\")"
      ],
      "execution_count": null,
      "outputs": []
    },
    {
      "cell_type": "code",
      "metadata": {
        "id": "qLcdxMeWSl-b"
      },
      "source": [
        "test_df = pd.DataFrame({\"input_text\":src_lines, \"target_text\":dest_lines})"
      ],
      "execution_count": null,
      "outputs": []
    },
    {
      "cell_type": "code",
      "metadata": {
        "colab": {
          "base_uri": "https://localhost:8080/",
          "height": 36
        },
        "id": "pcK6Q2ohSl3_",
        "outputId": "f9e1f82b-2129-4057-f101-f0d3951a5d0b"
      },
      "source": [
        "test_df[\"input_text\"].values[0]"
      ],
      "execution_count": null,
      "outputs": [
        {
          "output_type": "execute_result",
          "data": {
            "application/vnd.google.colaboratory.intrinsic+json": {
              "type": "string"
            },
            "text/plain": [
              "'these are only a few examples to show just how important the five year programme is'"
            ]
          },
          "metadata": {
            "tags": []
          },
          "execution_count": 10
        }
      ]
    },
    {
      "cell_type": "markdown",
      "metadata": {
        "id": "tsz_plwHTnrU"
      },
      "source": [
        ""
      ]
    },
    {
      "cell_type": "code",
      "metadata": {
        "id": "SqYkfGdMZoRl"
      },
      "source": [
        "%%time\n",
        "idx = np.random.randint(0, len(test_df), (1000))\n",
        "test_df[\"pred\"] = \"\"\n",
        "#for ix in idx:\n",
        "for ix in range(len(test_df)):\n",
        "    \n",
        "    print(ix)\n",
        "    inp_txt = test_df[\"input_text\"].values[ix]\n",
        "    correct = test_df[\"target_text\"].values[ix]\n",
        "    punc_txt = restore(inp_txt)[0][\"translation_text\"]\n",
        "    test_df.loc[ix, \"pred\"] = punc_txt\n",
        "\n",
        "    print(f\"Inp: {inp_txt}\\n OG: {correct} \\nOut: {punc_txt}\\n\")"
      ],
      "execution_count": null,
      "outputs": []
    },
    {
      "cell_type": "code",
      "metadata": {
        "id": "LRkZI4cixEko"
      },
      "source": [
        "test_df.to_csv(\"preds.csv\", index=False)"
      ],
      "execution_count": null,
      "outputs": []
    },
    {
      "cell_type": "code",
      "metadata": {
        "id": "cA7UWkcIUZjT"
      },
      "source": [
        "test_df.to_csv(\"\")"
      ],
      "execution_count": null,
      "outputs": []
    },
    {
      "cell_type": "code",
      "metadata": {
        "id": "B7VLqQVAUZZl"
      },
      "source": [
        ""
      ],
      "execution_count": null,
      "outputs": []
    },
    {
      "cell_type": "code",
      "metadata": {
        "id": "Lr-TqNP07nBS"
      },
      "source": [
        "test_df.shape"
      ],
      "execution_count": null,
      "outputs": []
    },
    {
      "cell_type": "code",
      "metadata": {
        "id": "SAN0joPK-wzq"
      },
      "source": [
        "max(test_df[\"target_text\"].apply(len))"
      ],
      "execution_count": null,
      "outputs": []
    },
    {
      "cell_type": "code",
      "metadata": {
        "id": "ZcVldoHKS4la"
      },
      "source": [
        "from tqdm.auto import tqdm"
      ],
      "execution_count": null,
      "outputs": []
    },
    {
      "cell_type": "code",
      "metadata": {
        "id": "CkHDIfZ_-lPE"
      },
      "source": [
        "%%time\r\n",
        "\r\n",
        "for ix in tqdm(range(len(test_df))):\r\n",
        "\r\n",
        "    inp_txt = test_df[\"input_text\"].values[ix]\r\n",
        "    correct = test_df[\"target_text\"].values[ix]\r\n",
        "    punc_txt = restore(inp_txt)[0][\"translation_text\"]\r\n",
        "    test_df.loc[ix, \"pred\"] = punc_txt"
      ],
      "execution_count": null,
      "outputs": []
    },
    {
      "cell_type": "code",
      "metadata": {
        "id": "SWeFaJBv-lTj",
        "colab": {
          "base_uri": "https://localhost:8080/",
          "height": 91
        },
        "outputId": "3d052f59-d1ff-4718-dbb3-5ad335761b78"
      },
      "source": [
        ""
      ],
      "execution_count": null,
      "outputs": [
        {
          "output_type": "execute_result",
          "data": {
            "application/vnd.google.colaboratory.intrinsic+json": {
              "type": "string"
            },
            "text/plain": [
              "'Such a solution would make a better contribution to the task of developing the importance of fisheries for worldwide food supplies, boost these nations&#x02BC; economic development and also remove the risks that may be involved in the fisheries agreements, e.g. that certain Member States&#x02BC; fisheries activities might receive indirect support to continue operating in a situation where the entire European fishing industry is in need of substantial restrictions.\\n'"
            ]
          },
          "metadata": {
            "tags": []
          },
          "execution_count": 15
        }
      ]
    }
  ]
}