{
  "nbformat": 4,
  "nbformat_minor": 0,
  "metadata": {
    "colab": {
      "name": "punct_eval.ipynb",
      "provenance": [],
      "collapsed_sections": [],
      "include_colab_link": true
    },
    "kernelspec": {
      "name": "python3",
      "display_name": "Python 3"
    },
    "accelerator": "GPU",
    "widgets": {
      "application/vnd.jupyter.widget-state+json": {
        "4b8c6b473c8d4fc4b103bf7df64cb302": {
          "model_module": "@jupyter-widgets/controls",
          "model_name": "HBoxModel",
          "state": {
            "_view_name": "HBoxView",
            "_dom_classes": [],
            "_model_name": "HBoxModel",
            "_view_module": "@jupyter-widgets/controls",
            "_model_module_version": "1.5.0",
            "_view_count": null,
            "_view_module_version": "1.5.0",
            "box_style": "",
            "layout": "IPY_MODEL_3f95687262ef4fbc97e58069732fc1f4",
            "_model_module": "@jupyter-widgets/controls",
            "children": [
              "IPY_MODEL_6906bd512daa440683a14d2f7ee13346",
              "IPY_MODEL_7d421a6dd55d402996beabc201b1e7b9"
            ]
          }
        },
        "3f95687262ef4fbc97e58069732fc1f4": {
          "model_module": "@jupyter-widgets/base",
          "model_name": "LayoutModel",
          "state": {
            "_view_name": "LayoutView",
            "grid_template_rows": null,
            "right": null,
            "justify_content": null,
            "_view_module": "@jupyter-widgets/base",
            "overflow": null,
            "_model_module_version": "1.2.0",
            "_view_count": null,
            "flex_flow": null,
            "width": null,
            "min_width": null,
            "border": null,
            "align_items": null,
            "bottom": null,
            "_model_module": "@jupyter-widgets/base",
            "top": null,
            "grid_column": null,
            "overflow_y": null,
            "overflow_x": null,
            "grid_auto_flow": null,
            "grid_area": null,
            "grid_template_columns": null,
            "flex": null,
            "_model_name": "LayoutModel",
            "justify_items": null,
            "grid_row": null,
            "max_height": null,
            "align_content": null,
            "visibility": null,
            "align_self": null,
            "height": null,
            "min_height": null,
            "padding": null,
            "grid_auto_rows": null,
            "grid_gap": null,
            "max_width": null,
            "order": null,
            "_view_module_version": "1.2.0",
            "grid_template_areas": null,
            "object_position": null,
            "object_fit": null,
            "grid_auto_columns": null,
            "margin": null,
            "display": null,
            "left": null
          }
        },
        "6906bd512daa440683a14d2f7ee13346": {
          "model_module": "@jupyter-widgets/controls",
          "model_name": "FloatProgressModel",
          "state": {
            "_view_name": "ProgressView",
            "style": "IPY_MODEL_b6648ebee89c40d1b756bcf8c938c021",
            "_dom_classes": [],
            "description": "100%",
            "_model_name": "FloatProgressModel",
            "bar_style": "success",
            "max": 61,
            "_view_module": "@jupyter-widgets/controls",
            "_model_module_version": "1.5.0",
            "value": 61,
            "_view_count": null,
            "_view_module_version": "1.5.0",
            "orientation": "horizontal",
            "min": 0,
            "description_tooltip": null,
            "_model_module": "@jupyter-widgets/controls",
            "layout": "IPY_MODEL_16e9cbe0c53d4d7ca96d15ec53191bf8"
          }
        },
        "7d421a6dd55d402996beabc201b1e7b9": {
          "model_module": "@jupyter-widgets/controls",
          "model_name": "HTMLModel",
          "state": {
            "_view_name": "HTMLView",
            "style": "IPY_MODEL_f4b299e0e7384758a17e75c463063390",
            "_dom_classes": [],
            "description": "",
            "_model_name": "HTMLModel",
            "placeholder": "​",
            "_view_module": "@jupyter-widgets/controls",
            "_model_module_version": "1.5.0",
            "value": " 61/61 [04:54&lt;00:00,  4.83s/it]",
            "_view_count": null,
            "_view_module_version": "1.5.0",
            "description_tooltip": null,
            "_model_module": "@jupyter-widgets/controls",
            "layout": "IPY_MODEL_b3c150a0a6e34709b03f87ddcf4ccb77"
          }
        },
        "b6648ebee89c40d1b756bcf8c938c021": {
          "model_module": "@jupyter-widgets/controls",
          "model_name": "ProgressStyleModel",
          "state": {
            "_view_name": "StyleView",
            "_model_name": "ProgressStyleModel",
            "description_width": "initial",
            "_view_module": "@jupyter-widgets/base",
            "_model_module_version": "1.5.0",
            "_view_count": null,
            "_view_module_version": "1.2.0",
            "bar_color": null,
            "_model_module": "@jupyter-widgets/controls"
          }
        },
        "16e9cbe0c53d4d7ca96d15ec53191bf8": {
          "model_module": "@jupyter-widgets/base",
          "model_name": "LayoutModel",
          "state": {
            "_view_name": "LayoutView",
            "grid_template_rows": null,
            "right": null,
            "justify_content": null,
            "_view_module": "@jupyter-widgets/base",
            "overflow": null,
            "_model_module_version": "1.2.0",
            "_view_count": null,
            "flex_flow": null,
            "width": null,
            "min_width": null,
            "border": null,
            "align_items": null,
            "bottom": null,
            "_model_module": "@jupyter-widgets/base",
            "top": null,
            "grid_column": null,
            "overflow_y": null,
            "overflow_x": null,
            "grid_auto_flow": null,
            "grid_area": null,
            "grid_template_columns": null,
            "flex": null,
            "_model_name": "LayoutModel",
            "justify_items": null,
            "grid_row": null,
            "max_height": null,
            "align_content": null,
            "visibility": null,
            "align_self": null,
            "height": null,
            "min_height": null,
            "padding": null,
            "grid_auto_rows": null,
            "grid_gap": null,
            "max_width": null,
            "order": null,
            "_view_module_version": "1.2.0",
            "grid_template_areas": null,
            "object_position": null,
            "object_fit": null,
            "grid_auto_columns": null,
            "margin": null,
            "display": null,
            "left": null
          }
        },
        "f4b299e0e7384758a17e75c463063390": {
          "model_module": "@jupyter-widgets/controls",
          "model_name": "DescriptionStyleModel",
          "state": {
            "_view_name": "StyleView",
            "_model_name": "DescriptionStyleModel",
            "description_width": "",
            "_view_module": "@jupyter-widgets/base",
            "_model_module_version": "1.5.0",
            "_view_count": null,
            "_view_module_version": "1.2.0",
            "_model_module": "@jupyter-widgets/controls"
          }
        },
        "b3c150a0a6e34709b03f87ddcf4ccb77": {
          "model_module": "@jupyter-widgets/base",
          "model_name": "LayoutModel",
          "state": {
            "_view_name": "LayoutView",
            "grid_template_rows": null,
            "right": null,
            "justify_content": null,
            "_view_module": "@jupyter-widgets/base",
            "overflow": null,
            "_model_module_version": "1.2.0",
            "_view_count": null,
            "flex_flow": null,
            "width": null,
            "min_width": null,
            "border": null,
            "align_items": null,
            "bottom": null,
            "_model_module": "@jupyter-widgets/base",
            "top": null,
            "grid_column": null,
            "overflow_y": null,
            "overflow_x": null,
            "grid_auto_flow": null,
            "grid_area": null,
            "grid_template_columns": null,
            "flex": null,
            "_model_name": "LayoutModel",
            "justify_items": null,
            "grid_row": null,
            "max_height": null,
            "align_content": null,
            "visibility": null,
            "align_self": null,
            "height": null,
            "min_height": null,
            "padding": null,
            "grid_auto_rows": null,
            "grid_gap": null,
            "max_width": null,
            "order": null,
            "_view_module_version": "1.2.0",
            "grid_template_areas": null,
            "object_position": null,
            "object_fit": null,
            "grid_auto_columns": null,
            "margin": null,
            "display": null,
            "left": null
          }
        },
        "7acabe4292004c5fae2f7756f3e9c67b": {
          "model_module": "@jupyter-widgets/controls",
          "model_name": "HBoxModel",
          "state": {
            "_view_name": "HBoxView",
            "_dom_classes": [],
            "_model_name": "HBoxModel",
            "_view_module": "@jupyter-widgets/controls",
            "_model_module_version": "1.5.0",
            "_view_count": null,
            "_view_module_version": "1.5.0",
            "box_style": "",
            "layout": "IPY_MODEL_89f49e3689a146f89cd25b47c2a47b93",
            "_model_module": "@jupyter-widgets/controls",
            "children": [
              "IPY_MODEL_a8bdd972036b4cdfb2ef156523dbbaa5",
              "IPY_MODEL_7e11fd4679ca4dd2a9322a42fb5b50cb"
            ]
          }
        },
        "89f49e3689a146f89cd25b47c2a47b93": {
          "model_module": "@jupyter-widgets/base",
          "model_name": "LayoutModel",
          "state": {
            "_view_name": "LayoutView",
            "grid_template_rows": null,
            "right": null,
            "justify_content": null,
            "_view_module": "@jupyter-widgets/base",
            "overflow": null,
            "_model_module_version": "1.2.0",
            "_view_count": null,
            "flex_flow": null,
            "width": null,
            "min_width": null,
            "border": null,
            "align_items": null,
            "bottom": null,
            "_model_module": "@jupyter-widgets/base",
            "top": null,
            "grid_column": null,
            "overflow_y": null,
            "overflow_x": null,
            "grid_auto_flow": null,
            "grid_area": null,
            "grid_template_columns": null,
            "flex": null,
            "_model_name": "LayoutModel",
            "justify_items": null,
            "grid_row": null,
            "max_height": null,
            "align_content": null,
            "visibility": null,
            "align_self": null,
            "height": null,
            "min_height": null,
            "padding": null,
            "grid_auto_rows": null,
            "grid_gap": null,
            "max_width": null,
            "order": null,
            "_view_module_version": "1.2.0",
            "grid_template_areas": null,
            "object_position": null,
            "object_fit": null,
            "grid_auto_columns": null,
            "margin": null,
            "display": null,
            "left": null
          }
        },
        "a8bdd972036b4cdfb2ef156523dbbaa5": {
          "model_module": "@jupyter-widgets/controls",
          "model_name": "FloatProgressModel",
          "state": {
            "_view_name": "ProgressView",
            "style": "IPY_MODEL_f5cc3a4e2f57453c9a4e9423ae29fb1a",
            "_dom_classes": [],
            "description": "100%",
            "_model_name": "FloatProgressModel",
            "bar_style": "success",
            "max": 3007,
            "_view_module": "@jupyter-widgets/controls",
            "_model_module_version": "1.5.0",
            "value": 3007,
            "_view_count": null,
            "_view_module_version": "1.5.0",
            "orientation": "horizontal",
            "min": 0,
            "description_tooltip": null,
            "_model_module": "@jupyter-widgets/controls",
            "layout": "IPY_MODEL_bcba4c8f87d446008153adf6cc1123d1"
          }
        },
        "7e11fd4679ca4dd2a9322a42fb5b50cb": {
          "model_module": "@jupyter-widgets/controls",
          "model_name": "HTMLModel",
          "state": {
            "_view_name": "HTMLView",
            "style": "IPY_MODEL_875e67064d714bbea3708671690478cd",
            "_dom_classes": [],
            "description": "",
            "_model_name": "HTMLModel",
            "placeholder": "​",
            "_view_module": "@jupyter-widgets/controls",
            "_model_module_version": "1.5.0",
            "value": " 3007/3007 [03:44&lt;00:00, 13.39it/s]",
            "_view_count": null,
            "_view_module_version": "1.5.0",
            "description_tooltip": null,
            "_model_module": "@jupyter-widgets/controls",
            "layout": "IPY_MODEL_4ac1595c9afc4257923226d6664546bf"
          }
        },
        "f5cc3a4e2f57453c9a4e9423ae29fb1a": {
          "model_module": "@jupyter-widgets/controls",
          "model_name": "ProgressStyleModel",
          "state": {
            "_view_name": "StyleView",
            "_model_name": "ProgressStyleModel",
            "description_width": "initial",
            "_view_module": "@jupyter-widgets/base",
            "_model_module_version": "1.5.0",
            "_view_count": null,
            "_view_module_version": "1.2.0",
            "bar_color": null,
            "_model_module": "@jupyter-widgets/controls"
          }
        },
        "bcba4c8f87d446008153adf6cc1123d1": {
          "model_module": "@jupyter-widgets/base",
          "model_name": "LayoutModel",
          "state": {
            "_view_name": "LayoutView",
            "grid_template_rows": null,
            "right": null,
            "justify_content": null,
            "_view_module": "@jupyter-widgets/base",
            "overflow": null,
            "_model_module_version": "1.2.0",
            "_view_count": null,
            "flex_flow": null,
            "width": null,
            "min_width": null,
            "border": null,
            "align_items": null,
            "bottom": null,
            "_model_module": "@jupyter-widgets/base",
            "top": null,
            "grid_column": null,
            "overflow_y": null,
            "overflow_x": null,
            "grid_auto_flow": null,
            "grid_area": null,
            "grid_template_columns": null,
            "flex": null,
            "_model_name": "LayoutModel",
            "justify_items": null,
            "grid_row": null,
            "max_height": null,
            "align_content": null,
            "visibility": null,
            "align_self": null,
            "height": null,
            "min_height": null,
            "padding": null,
            "grid_auto_rows": null,
            "grid_gap": null,
            "max_width": null,
            "order": null,
            "_view_module_version": "1.2.0",
            "grid_template_areas": null,
            "object_position": null,
            "object_fit": null,
            "grid_auto_columns": null,
            "margin": null,
            "display": null,
            "left": null
          }
        },
        "875e67064d714bbea3708671690478cd": {
          "model_module": "@jupyter-widgets/controls",
          "model_name": "DescriptionStyleModel",
          "state": {
            "_view_name": "StyleView",
            "_model_name": "DescriptionStyleModel",
            "description_width": "",
            "_view_module": "@jupyter-widgets/base",
            "_model_module_version": "1.5.0",
            "_view_count": null,
            "_view_module_version": "1.2.0",
            "_model_module": "@jupyter-widgets/controls"
          }
        },
        "4ac1595c9afc4257923226d6664546bf": {
          "model_module": "@jupyter-widgets/base",
          "model_name": "LayoutModel",
          "state": {
            "_view_name": "LayoutView",
            "grid_template_rows": null,
            "right": null,
            "justify_content": null,
            "_view_module": "@jupyter-widgets/base",
            "overflow": null,
            "_model_module_version": "1.2.0",
            "_view_count": null,
            "flex_flow": null,
            "width": null,
            "min_width": null,
            "border": null,
            "align_items": null,
            "bottom": null,
            "_model_module": "@jupyter-widgets/base",
            "top": null,
            "grid_column": null,
            "overflow_y": null,
            "overflow_x": null,
            "grid_auto_flow": null,
            "grid_area": null,
            "grid_template_columns": null,
            "flex": null,
            "_model_name": "LayoutModel",
            "justify_items": null,
            "grid_row": null,
            "max_height": null,
            "align_content": null,
            "visibility": null,
            "align_self": null,
            "height": null,
            "min_height": null,
            "padding": null,
            "grid_auto_rows": null,
            "grid_gap": null,
            "max_width": null,
            "order": null,
            "_view_module_version": "1.2.0",
            "grid_template_areas": null,
            "object_position": null,
            "object_fit": null,
            "grid_auto_columns": null,
            "margin": null,
            "display": null,
            "left": null
          }
        }
      }
    }
  },
  "cells": [
    {
      "cell_type": "markdown",
      "metadata": {
        "id": "view-in-github",
        "colab_type": "text"
      },
      "source": [
        "<a href=\"https://colab.research.google.com/github/deterministic-algorithms-lab/PunctFormer/blob/main/notebooks/evaluate.ipynb\" target=\"_parent\"><img src=\"https://colab.research.google.com/assets/colab-badge.svg\" alt=\"Open In Colab\"/></a>"
      ]
    },
    {
      "cell_type": "markdown",
      "metadata": {
        "id": "h1Mn8fmCeSdX"
      },
      "source": [
        "## Prep"
      ]
    },
    {
      "cell_type": "code",
      "metadata": {
        "id": "lg91jb2E4DUb"
      },
      "source": [
        "!pip install transformers"
      ],
      "execution_count": null,
      "outputs": []
    },
    {
      "cell_type": "code",
      "metadata": {
        "id": "q_S8I4m-r2xL"
      },
      "source": [
        "from google.colab import drive\n",
        "drive.mount('/content/gdrive')"
      ],
      "execution_count": null,
      "outputs": []
    },
    {
      "cell_type": "code",
      "metadata": {
        "id": "sE8XrG3-ZLNH",
        "colab": {
          "base_uri": "https://localhost:8080/"
        },
        "outputId": "fe8ddbe6-8608-4c0d-e078-0fad56703ae4"
      },
      "source": [
        "!wget http://opus.nlpl.eu/download.php?f=WMT-News/v2019/mono/en.txt.gz -O en.txt.gz\r\n",
        "!gzip -d en.txt.gz"
      ],
      "execution_count": null,
      "outputs": [
        {
          "output_type": "stream",
          "text": [
            "--2020-12-19 17:32:14--  http://opus.nlpl.eu/download.php?f=WMT-News/v2019/mono/en.txt.gz\n",
            "Resolving opus.nlpl.eu (opus.nlpl.eu)... 193.166.25.9\n",
            "Connecting to opus.nlpl.eu (opus.nlpl.eu)|193.166.25.9|:80... connected.\n",
            "HTTP request sent, awaiting response... 302 Found\n",
            "Location: https://object.pouta.csc.fi/OPUS-WMT-News/v2019/mono/en.txt.gz [following]\n",
            "--2020-12-19 17:32:14--  https://object.pouta.csc.fi/OPUS-WMT-News/v2019/mono/en.txt.gz\n",
            "Resolving object.pouta.csc.fi (object.pouta.csc.fi)... 86.50.254.18, 86.50.254.19\n",
            "Connecting to object.pouta.csc.fi (object.pouta.csc.fi)|86.50.254.18|:443... connected.\n",
            "HTTP request sent, awaiting response... 200 OK\n",
            "Length: 133632 (130K) [application/gzip]\n",
            "Saving to: ‘en.txt.gz’\n",
            "\n",
            "en.txt.gz           100%[===================>] 130.50K   526KB/s    in 0.2s    \n",
            "\n",
            "2020-12-19 17:32:16 (526 KB/s) - ‘en.txt.gz’ saved [133632/133632]\n",
            "\n"
          ],
          "name": "stdout"
        }
      ]
    },
    {
      "cell_type": "code",
      "metadata": {
        "id": "v585vGy6a9Sg"
      },
      "source": [
        ""
      ],
      "execution_count": null,
      "outputs": []
    },
    {
      "cell_type": "code",
      "metadata": {
        "id": "IIlYrLG5ecuo"
      },
      "source": [
        "import gc\r\n",
        "import string\r\n",
        "from tqdm.auto import tqdm\r\n",
        "\r\n",
        "import pandas as pd"
      ],
      "execution_count": null,
      "outputs": []
    },
    {
      "cell_type": "code",
      "metadata": {
        "id": "tbPwutY_at2x"
      },
      "source": [
        "punctuations = \"?!,-:;.\""
      ],
      "execution_count": null,
      "outputs": []
    },
    {
      "cell_type": "code",
      "metadata": {
        "id": "HMsT0IUNNaFq"
      },
      "source": [
        "with open(\"/content/en.txt\") as fp:\r\n",
        "    lines = fp.readlines()"
      ],
      "execution_count": null,
      "outputs": []
    },
    {
      "cell_type": "code",
      "metadata": {
        "id": "dkaWoI61gCHO"
      },
      "source": [
        "def cleanString(strval):\n",
        "    return \"\".join(\" \" if i in punctuations else i for i in strval.lower().strip(punctuations))"
      ],
      "execution_count": null,
      "outputs": []
    },
    {
      "cell_type": "code",
      "metadata": {
        "id": "9cFPDkY4atz3"
      },
      "source": [
        "dest = []\n",
        "for i, line in enumerate(lines):\n",
        "    lines[i] = line.replace(\"\\n\", \"\")\n",
        "    s = \" \".join(cleanString(i) for i in line.split())\n",
        "    dest.append(s)"
      ],
      "execution_count": null,
      "outputs": []
    },
    {
      "cell_type": "code",
      "metadata": {
        "id": "Whfr9jjmcQjA"
      },
      "source": [
        "df = pd.DataFrame({\"input_text\":dest, \"target_text\":lines})"
      ],
      "execution_count": null,
      "outputs": []
    },
    {
      "cell_type": "code",
      "metadata": {
        "colab": {
          "base_uri": "https://localhost:8080/"
        },
        "id": "qsKfK96mazGM",
        "outputId": "1972a986-c8c8-45dd-c350-adb92710a938"
      },
      "source": [
        "!mkdir data seq2seq punctuator\r\n",
        "with open(\"/content/data/test.source\", 'w') as fp_src:\r\n",
        "    with open(\"/content/data/test.target\", 'w') as fp_tgt:\r\n",
        "        for ix in df.index:\r\n",
        "            src_txt = df[\"input_text\"][ix]\r\n",
        "            dest_txt = df[\"target_text\"][ix]\r\n",
        "            #skipping empty strings\r\n",
        "            if src_txt != \"\":\r\n",
        "                fp_src.write(\"{}\\n\".format(src_txt))\r\n",
        "                fp_tgt.write(\"{}\\n\".format(dest_txt))\r\n",
        "\r\n",
        "gc.collect()"
      ],
      "execution_count": null,
      "outputs": [
        {
          "output_type": "execute_result",
          "data": {
            "text/plain": [
              "90"
            ]
          },
          "metadata": {
            "tags": []
          },
          "execution_count": 10
        }
      ]
    },
    {
      "cell_type": "code",
      "metadata": {
        "id": "HBxHGPAGedpf"
      },
      "source": [
        ""
      ],
      "execution_count": null,
      "outputs": []
    },
    {
      "cell_type": "markdown",
      "metadata": {
        "id": "GYm_0_r9eUbL"
      },
      "source": [
        "## Transformer"
      ]
    },
    {
      "cell_type": "code",
      "metadata": {
        "id": "vOUyWfQZa8FY"
      },
      "source": [
        "from transformers import pipeline, AutoTokenizer, BartForConditionalGeneration, T5ForConditionalGeneration"
      ],
      "execution_count": null,
      "outputs": []
    },
    {
      "cell_type": "code",
      "metadata": {
        "id": "wZg3AGoQZLEJ"
      },
      "source": [
        "model = BartForConditionalGeneration.from_pretrained(\"/content/gdrive/MyDrive/DAL/punctuation/bart/europarl_cap\", max_length=50000)\r\n",
        "\r\n",
        "tokenizer = AutoTokenizer.from_pretrained(\"/content/gdrive/MyDrive/DAL/punctuation/bart/europarl_cap\")\r\n",
        "restore = pipeline('translation_xx_to_yy', model=model.to(\"cuda\"), tokenizer=tokenizer, device=0)"
      ],
      "execution_count": null,
      "outputs": []
    },
    {
      "cell_type": "code",
      "metadata": {
        "colab": {
          "base_uri": "https://localhost:8080/"
        },
        "id": "w7brkUfKb660",
        "outputId": "49979508-ead1-457b-92a1-daf0db9f5c37"
      },
      "source": [
        "%%time\r\n",
        "text = \"hello how are you\"\r\n",
        "\r\n",
        "print(restore(text)[0][\"translation_text\"])"
      ],
      "execution_count": null,
      "outputs": [
        {
          "output_type": "stream",
          "text": [
            "Hello, how are you?\n",
            "CPU times: user 95.2 ms, sys: 16.6 ms, total: 112 ms\n",
            "Wall time: 318 ms\n"
          ],
          "name": "stdout"
        }
      ]
    },
    {
      "cell_type": "code",
      "metadata": {
        "colab": {
          "base_uri": "https://localhost:8080/",
          "height": 122,
          "referenced_widgets": [
            "4b8c6b473c8d4fc4b103bf7df64cb302",
            "3f95687262ef4fbc97e58069732fc1f4",
            "6906bd512daa440683a14d2f7ee13346",
            "7d421a6dd55d402996beabc201b1e7b9",
            "b6648ebee89c40d1b756bcf8c938c021",
            "16e9cbe0c53d4d7ca96d15ec53191bf8",
            "f4b299e0e7384758a17e75c463063390",
            "b3c150a0a6e34709b03f87ddcf4ccb77"
          ]
        },
        "id": "YE9JJgmj24zV",
        "outputId": "8e25e5ca-8a18-4d4e-fd9b-b87f3c05066a"
      },
      "source": [
        "%%time\r\n",
        "\r\n",
        "bart_preds = []\r\n",
        "for i in tqdm(range(0, len(dest), 50)):\r\n",
        "    gc.collect()\r\n",
        "    pred = restore(dest[i:i+50])\r\n",
        "    if i == 0:\r\n",
        "        print(len(pred))\r\n",
        "    for dict_ in pred:\r\n",
        "        bart_preds.append(dict_[\"translation_text\"])"
      ],
      "execution_count": null,
      "outputs": [
        {
          "output_type": "display_data",
          "data": {
            "application/vnd.jupyter.widget-view+json": {
              "model_id": "4b8c6b473c8d4fc4b103bf7df64cb302",
              "version_minor": 0,
              "version_major": 2
            },
            "text/plain": [
              "HBox(children=(FloatProgress(value=0.0, max=61.0), HTML(value='')))"
            ]
          },
          "metadata": {
            "tags": []
          }
        },
        {
          "output_type": "stream",
          "text": [
            "50\n",
            "\n",
            "CPU times: user 3min 32s, sys: 44.3 s, total: 4min 16s\n",
            "Wall time: 4min 16s\n"
          ],
          "name": "stdout"
        }
      ]
    },
    {
      "cell_type": "code",
      "metadata": {
        "id": "FfgDYokN5pC5"
      },
      "source": [
        "bart_preds"
      ],
      "execution_count": null,
      "outputs": []
    },
    {
      "cell_type": "code",
      "metadata": {
        "id": "jQGp2HcZcQ7W"
      },
      "source": [
        "dest[:10]"
      ],
      "execution_count": null,
      "outputs": []
    },
    {
      "cell_type": "code",
      "metadata": {
        "id": "rpRefC76gjd8"
      },
      "source": [
        "lines[:10]"
      ],
      "execution_count": null,
      "outputs": []
    },
    {
      "cell_type": "code",
      "metadata": {
        "id": "D3gJpVkvgfpM"
      },
      "source": [
        ""
      ],
      "execution_count": null,
      "outputs": []
    },
    {
      "cell_type": "code",
      "metadata": {
        "id": "O0ywKVPWgfmU"
      },
      "source": [
        ""
      ],
      "execution_count": null,
      "outputs": []
    },
    {
      "cell_type": "markdown",
      "metadata": {
        "id": "3bKrR5KFfTzm"
      },
      "source": [
        "## Punctuator"
      ]
    },
    {
      "cell_type": "code",
      "metadata": {
        "id": "OafaQUmvb0FI",
        "colab": {
          "base_uri": "https://localhost:8080/"
        },
        "outputId": "b69239bc-c400-4611-d56e-7e0d0b0b5ad2"
      },
      "source": [
        "!pip install punctuator"
      ],
      "execution_count": null,
      "outputs": [
        {
          "output_type": "stream",
          "text": [
            "Collecting punctuator\n",
            "  Downloading https://files.pythonhosted.org/packages/99/0f/180596123582315cb72c805c605b0ab20942b3035725fca0525729474a7d/punctuator-0.9.6.tar.gz\n",
            "Collecting nltk>=3.4.5\n",
            "\u001b[?25l  Downloading https://files.pythonhosted.org/packages/92/75/ce35194d8e3022203cca0d2f896dbb88689f9b3fce8e9f9cff942913519d/nltk-3.5.zip (1.4MB)\n",
            "\u001b[K     |████████████████████████████████| 1.4MB 18.8MB/s \n",
            "\u001b[?25hRequirement already satisfied: numpy>=1.17.2 in /usr/local/lib/python3.6/dist-packages (from punctuator) (1.19.4)\n",
            "Requirement already satisfied: theano>=1.0.4 in /usr/local/lib/python3.6/dist-packages (from punctuator) (1.0.5)\n",
            "Collecting gdown>=3.8.3\n",
            "  Downloading https://files.pythonhosted.org/packages/50/21/92c3cfe56f5c0647145c4b0083d0733dd4890a057eb100a8eeddf949ffe9/gdown-3.12.2.tar.gz\n",
            "  Installing build dependencies ... \u001b[?25l\u001b[?25hdone\n",
            "  Getting requirements to build wheel ... \u001b[?25l\u001b[?25hdone\n",
            "    Preparing wheel metadata ... \u001b[?25l\u001b[?25hdone\n",
            "Requirement already satisfied: click in /usr/local/lib/python3.6/dist-packages (from nltk>=3.4.5->punctuator) (7.1.2)\n",
            "Requirement already satisfied: joblib in /usr/local/lib/python3.6/dist-packages (from nltk>=3.4.5->punctuator) (1.0.0)\n",
            "Requirement already satisfied: regex in /usr/local/lib/python3.6/dist-packages (from nltk>=3.4.5->punctuator) (2019.12.20)\n",
            "Requirement already satisfied: tqdm in /usr/local/lib/python3.6/dist-packages (from nltk>=3.4.5->punctuator) (4.41.1)\n",
            "Requirement already satisfied: six>=1.9.0 in /usr/local/lib/python3.6/dist-packages (from theano>=1.0.4->punctuator) (1.15.0)\n",
            "Requirement already satisfied: scipy>=0.14 in /usr/local/lib/python3.6/dist-packages (from theano>=1.0.4->punctuator) (1.4.1)\n",
            "Requirement already satisfied: filelock in /usr/local/lib/python3.6/dist-packages (from gdown>=3.8.3->punctuator) (3.0.12)\n",
            "Requirement already satisfied: requests[socks] in /usr/local/lib/python3.6/dist-packages (from gdown>=3.8.3->punctuator) (2.23.0)\n",
            "Requirement already satisfied: urllib3!=1.25.0,!=1.25.1,<1.26,>=1.21.1 in /usr/local/lib/python3.6/dist-packages (from requests[socks]->gdown>=3.8.3->punctuator) (1.24.3)\n",
            "Requirement already satisfied: chardet<4,>=3.0.2 in /usr/local/lib/python3.6/dist-packages (from requests[socks]->gdown>=3.8.3->punctuator) (3.0.4)\n",
            "Requirement already satisfied: idna<3,>=2.5 in /usr/local/lib/python3.6/dist-packages (from requests[socks]->gdown>=3.8.3->punctuator) (2.10)\n",
            "Requirement already satisfied: certifi>=2017.4.17 in /usr/local/lib/python3.6/dist-packages (from requests[socks]->gdown>=3.8.3->punctuator) (2020.12.5)\n",
            "Requirement already satisfied: PySocks!=1.5.7,>=1.5.6; extra == \"socks\" in /usr/local/lib/python3.6/dist-packages (from requests[socks]->gdown>=3.8.3->punctuator) (1.7.1)\n",
            "Building wheels for collected packages: gdown\n",
            "  Building wheel for gdown (PEP 517) ... \u001b[?25l\u001b[?25hdone\n",
            "  Created wheel for gdown: filename=gdown-3.12.2-cp36-none-any.whl size=9693 sha256=b9f14c02779ea63b361dfcc95b2aa707ba316e56419e77d3cc970115888a7e11\n",
            "  Stored in directory: /root/.cache/pip/wheels/81/d0/d7/d9983facc6f2775411803e0e2d30ebf98efbf2fc6e57701e09\n",
            "Successfully built gdown\n",
            "Building wheels for collected packages: punctuator, nltk\n",
            "  Building wheel for punctuator (setup.py) ... \u001b[?25l\u001b[?25hdone\n",
            "  Created wheel for punctuator: filename=punctuator-0.9.6-cp36-none-any.whl size=25154 sha256=326ad16331dfc951d2402e3c7e15d50d5059be61ee020f07d2ef33725d6d3987\n",
            "  Stored in directory: /root/.cache/pip/wheels/9a/4b/83/024d41a639f2945705721ebc0b9c596880d492a487925f941a\n",
            "  Building wheel for nltk (setup.py) ... \u001b[?25l\u001b[?25hdone\n",
            "  Created wheel for nltk: filename=nltk-3.5-cp36-none-any.whl size=1434673 sha256=694d5fa6215a2f9524d8f88d23d62db89b403b898d6076cc6e94102c86ffed1d\n",
            "  Stored in directory: /root/.cache/pip/wheels/ae/8c/3f/b1fe0ba04555b08b57ab52ab7f86023639a526d8bc8d384306\n",
            "Successfully built punctuator nltk\n",
            "Installing collected packages: nltk, gdown, punctuator\n",
            "  Found existing installation: nltk 3.2.5\n",
            "    Uninstalling nltk-3.2.5:\n",
            "      Successfully uninstalled nltk-3.2.5\n",
            "  Found existing installation: gdown 3.6.4\n",
            "    Uninstalling gdown-3.6.4:\n",
            "      Successfully uninstalled gdown-3.6.4\n",
            "Successfully installed gdown-3.12.2 nltk-3.5 punctuator-0.9.6\n"
          ],
          "name": "stdout"
        }
      ]
    },
    {
      "cell_type": "code",
      "metadata": {
        "id": "HC3ssShfeKKP"
      },
      "source": [
        "from punctuator import Punctuator"
      ],
      "execution_count": null,
      "outputs": []
    },
    {
      "cell_type": "code",
      "metadata": {
        "id": "8YfsjDSRfmOR",
        "colab": {
          "base_uri": "https://localhost:8080/"
        },
        "outputId": "00a2e1a1-29f4-4db3-b106-c14d821fb3a5"
      },
      "source": [
        "#https://drive.google.com/drive/folders/0B7BsN5f2F1fZQnFsbzJ3TWxxMms\r\n",
        "\r\n",
        "#first\r\n",
        "!gdown https://drive.google.com/uc?id=0B7BsN5f2F1fZd1Q0aXlrUDhDbnM\r\n",
        "\r\n",
        "#second\r\n",
        "!gdown https://drive.google.com/uc?id=0B7BsN5f2F1fZZ2ZXd3R0dEh6NDA"
      ],
      "execution_count": null,
      "outputs": [
        {
          "output_type": "stream",
          "text": [
            "Downloading...\n",
            "From: https://drive.google.com/uc?id=0B7BsN5f2F1fZd1Q0aXlrUDhDbnM\n",
            "To: /content/Demo-Europarl-EN.pcl\n",
            "144MB [00:00, 159MB/s]\n",
            "Downloading...\n",
            "From: https://drive.google.com/uc?id=0B7BsN5f2F1fZZ2ZXd3R0dEh6NDA\n",
            "To: /content/INTERSPEECH-T-BRNN.pcl\n",
            "72.5MB [00:02, 32.6MB/s]\n"
          ],
          "name": "stdout"
        }
      ]
    },
    {
      "cell_type": "code",
      "metadata": {
        "id": "TBLjtQcnPpeU"
      },
      "source": [
        ""
      ],
      "execution_count": null,
      "outputs": []
    },
    {
      "cell_type": "code",
      "metadata": {
        "id": "vAAx3Lw2eKHY",
        "colab": {
          "base_uri": "https://localhost:8080/"
        },
        "outputId": "b6902605-1cf1-43e0-98e5-139fac0e5dd8"
      },
      "source": [
        "#p = Punctuator('/content/Demo-Europarl-EN.pcl')\r\n",
        "\r\n",
        "p = Punctuator(\"/content/INTERSPEECH-T-BRNN.pcl\")"
      ],
      "execution_count": null,
      "outputs": [
        {
          "output_type": "stream",
          "text": [
            "WARNING (theano.tensor.blas): We did not find a dynamic library in the library_dir of the library we use for blas. If you use ATLAS, make sure to compile it with dynamics library.\n",
            "WARNING:theano.tensor.blas:We did not find a dynamic library in the library_dir of the library we use for blas. If you use ATLAS, make sure to compile it with dynamics library.\n",
            "WARNING (theano.tensor.blas): We did not find a dynamic library in the library_dir of the library we use for blas. If you use ATLAS, make sure to compile it with dynamics library.\n",
            "WARNING:theano.tensor.blas:We did not find a dynamic library in the library_dir of the library we use for blas. If you use ATLAS, make sure to compile it with dynamics library.\n"
          ],
          "name": "stderr"
        }
      ]
    },
    {
      "cell_type": "code",
      "metadata": {
        "colab": {
          "base_uri": "https://localhost:8080/"
        },
        "id": "ZCFbfKV8ffwD",
        "outputId": "f487e60c-a0d0-4ab9-abcc-d3611cc151e6"
      },
      "source": [
        "%%time\r\n",
        "print(p.punctuate('hello how are you'))"
      ],
      "execution_count": null,
      "outputs": [
        {
          "output_type": "stream",
          "text": [
            "Hello, how are you.\n",
            "CPU times: user 19.6 ms, sys: 16.4 ms, total: 36 ms\n",
            "Wall time: 28 ms\n"
          ],
          "name": "stdout"
        }
      ]
    },
    {
      "cell_type": "code",
      "metadata": {
        "colab": {
          "base_uri": "https://localhost:8080/",
          "height": 104,
          "referenced_widgets": [
            "7acabe4292004c5fae2f7756f3e9c67b",
            "89f49e3689a146f89cd25b47c2a47b93",
            "a8bdd972036b4cdfb2ef156523dbbaa5",
            "7e11fd4679ca4dd2a9322a42fb5b50cb",
            "f5cc3a4e2f57453c9a4e9423ae29fb1a",
            "bcba4c8f87d446008153adf6cc1123d1",
            "875e67064d714bbea3708671690478cd",
            "4ac1595c9afc4257923226d6664546bf"
          ]
        },
        "id": "w3tr3b5agNxc",
        "outputId": "d4519e40-9ac8-4d0a-d9e3-e85845d99f6b"
      },
      "source": [
        "%%time\r\n",
        "\r\n",
        "lstm_preds = []\r\n",
        "for txt in tqdm(dest):\r\n",
        "    pred = p.punctuate(txt)\r\n",
        "    lstm_preds.append(pred)"
      ],
      "execution_count": null,
      "outputs": [
        {
          "output_type": "display_data",
          "data": {
            "application/vnd.jupyter.widget-view+json": {
              "model_id": "7acabe4292004c5fae2f7756f3e9c67b",
              "version_minor": 0,
              "version_major": 2
            },
            "text/plain": [
              "HBox(children=(FloatProgress(value=0.0, max=3007.0), HTML(value='')))"
            ]
          },
          "metadata": {
            "tags": []
          }
        },
        {
          "output_type": "stream",
          "text": [
            "\n",
            "CPU times: user 4min 16s, sys: 2min 51s, total: 7min 8s\n",
            "Wall time: 3min 44s\n"
          ],
          "name": "stdout"
        }
      ]
    },
    {
      "cell_type": "code",
      "metadata": {
        "id": "nMvzW6wwfftT",
        "colab": {
          "base_uri": "https://localhost:8080/"
        },
        "outputId": "75ccdb7c-08ca-4042-cf64-b2b6af768c14"
      },
      "source": [
        "lstm_preds"
      ],
      "execution_count": null,
      "outputs": [
        {
          "output_type": "execute_result",
          "data": {
            "text/plain": [
              "['28 year old chef found dead at san francisco mall.',\n",
              " 'A 28 year, old chef, who had recently moved to san francisco was found dead in the stairwell of a local mall. This week.',\n",
              " 'But the victim\\'s brother says, he can\\'t think of anyone who would want to hurt him, saying, \"things were finally going well for him \".',\n",
              " \"The body found at the westfield mall wednesday morning was identified as 28 year old, san francisco, resident frank galicia. The san francisco medical examiner's office said,.\",\n",
              " 'The san francisco, police department said, the death was ruled a homicide and an investigation is ongoing.',\n",
              " \"The victim's brother louis galicia told abc station kgo in san francisco that frank previously a line cook in boston had landed his dream job as line chef at san francisco's sons & daughters, restaurant, six months ago,.\",\n",
              " 'A spokesperson for sons & daughters said, they were \"shocked and devastated\" by his death.',\n",
              " '\"We are a small team that operates like a close, knit family, and he will be dearly missed \". The spokesperson said,.',\n",
              " \"Our thoughts and condolences are with frank's family and friends at this difficult time.\",\n",
              " 'Louis galicia said, frank initially stayed in hostels. But recently \"things were finally going well for him \".',\n",
              " '\"He found an apartment. He was dating a girl \". Louis galicia told kgo.',\n",
              " 'Louis galicia said, he could not think of anyone who would want to hurt his younger brother.',\n",
              " 'He was a kind spirit with a big heart.',\n",
              " 'His way of connecting with the family was always making us a dish making us dinner \". Louis galicia said,.',\n",
              " 'He never wanted to be in any kind of altercation.',\n",
              " 'He was the brother that went with the flow.',\n",
              " '\"With, everything else that\\'s going wrong with the world. He was that diamond in the rough that was shining bright every day \". He said,.',\n",
              " 'Anyone with information is asked to call the sfpd tip line at 415 575 4444.',\n",
              " 'Junior doctors strike calls for fresh industrial action.',\n",
              " 'Representatives of junior doctors have called on their union to authorise fresh industrial action in their dispute about a new contract.',\n",
              " 'The junior doctors committee (jdc) of the british medical association (bma) is to ask its full council to back more industrial action from early september.',\n",
              " 'The jdc says, ministers have failed to address concerns about the contract.',\n",
              " 'Junior doctors and medical students voted in july to reject a contract deal agreed with the bma.',\n",
              " 'It was rejected by 58% of its members who voted in the ballot.',\n",
              " 'In a letter to members released on twitter on thursday, night, the jdc\\'s chair ellen mccourt said, the government had remained \"persistently silent\" on issues, which she said had resulted in the contract being rejected.',\n",
              " 'She said, \"in, light of this. The jdc executive has voted to reject the proposed new contract in full and to call for formal re negotiations on all of your concerns \".',\n",
              " \"In response to the government's silence, jdc exec has today made a formal request for a special meeting of bma council to authorise a rolling programme of escalated industrial action. Beginning in early september.\",\n",
              " 'The dispute has led to junior doctors, taking part in six strikes this year, including the first all out stoppages in the history of the nhs.',\n",
              " \"The bma's junior doctor leader. Dr, johann malawana resigned following the vote to reject the negotiated terms of the contract, which the bma had recommended.\",\n",
              " 'He had told bma members, the deal was a good one that should be accepted during meetings ahead of the poll of 54, 000 junior doctors and medical students.',\n",
              " 'Following the vote health secretary jeremy hunt said, the contract would be imposed on medics in england.',\n",
              " \"Russia and turkey, an 'alliance of misfits'.\",\n",
              " 'It was a gesture that ended a crisis.',\n",
              " 'The leaders of russia and turkey met on tuesday to shake hands. And declare a formal end to an eight month long war of words and economic sanctions.',\n",
              " 'But as vladimir putin greeted, his turkish counterpart in the gilded hall of a st. Petersburg palace. I got the distinct impression that ankara wants this reconciliation. The most.',\n",
              " 'There was the handshake. Yes,.',\n",
              " \"But mr putin's smile looked thin, and he was hardly oozing warmth, even by his own restrained standards.\",\n",
              " 'Recep tayyip erdogan by contrast, talked repeatedly of his \"dear friend\", mr putin five times, according to one report.',\n",
              " 'I lost count.',\n",
              " 'He also pledged that relations with russia would return not just to their pre crisis level, but even higher.',\n",
              " 'The next day one newspaper here described mr erdogan as acting as if nothing bad had ever happened.',\n",
              " 'To me his enthusiasm, implied, the opposite.',\n",
              " \"But a lingering coolness emanating from mr putin showed that russia's leader has forgotten. Nothing.\",\n",
              " \"In fact, the cause of the crisis was the first thing he mentioned in his opening comments, turkey's shooting down of a russian fighter plane on the syrian border.\",\n",
              " \"Moscow's reaction at the time was furious.\",\n",
              " 'Mr putin lashed out accusing ankara of stabbing moscow in the back.',\n",
              " 'The offence was even greater coming from a supposed friend.',\n",
              " 'Rebuilding real trust will be hard perhaps impossible.',\n",
              " 'Russian public opinion has also turned since november.',\n",
              " 'For months state, controlled media conducted a staggering all out offensive against ankara.',\n",
              " 'All of a sudden it seemed like turks were to blame for everything.',\n",
              " \"Most serious were accusations from top officials that mr erdogan's own family has profited from an illegal trade in oil from areas of syria, controlled by the so called islamic state.\",\n",
              " \"He's denied that emphatically.\",\n",
              " \"But in st petersburg, came the official message that it's time to move on.\",\n",
              " 'After all this meeting only happened because mr putin got the apology. He demanded from president erdogan.',\n",
              " 'Russia could claim a victory of sorts.',\n",
              " 'For ankara the benefits of calling a truce are clear.',\n",
              " 'First and foremost, erdogan needs all the friends he can get after. He was nearly ousted from power last month in a failed coup.',\n",
              " 'Repeat terror attacks on turkey have clearly shaken him too.',\n",
              " 'There is also an economic motive.',\n",
              " 'Russian sanctions have hit hard, particularly the ban on charter flights, which usually carry several million russian tourists to the turkish coast. Each year.',\n",
              " 'The number has slumped by almost 90%.',\n",
              " 'As for russia tour operators and charter companies, here will certainly be relieved when flights eventually resume.',\n",
              " \"They're banking on a late season rush to the mediterranean.\",\n",
              " 'And even this week state tv has been predicting cheaper fruit and vegetables once turkish agricultural imports are permitted again,.',\n",
              " '\"Tourists that way tomatoes back here, \" as a report in vedemosti newspaper, phrased it.',\n",
              " 'But the visit also had additional political value for moscow.',\n",
              " 'Ankara is angry with the west for what it considers a weak response to the attempted takeover.',\n",
              " \"Add to that its long standing grudge at the snail's pace of talks to join the eu and step in mr putin, who is keen to capitalise on the chill and chip away at turkey's ties with the west.\",\n",
              " 'The russian leader, certainly won bonus points with ankara for calling in support of the elected authorities after the attempted coup.',\n",
              " \"Mind you that's a given for moscow, which has its own deep seated fear of regime change.\",\n",
              " 'So the summit at this glitzy seaside palace allowed russia and turkey to present what one analyst described to me as an \"alliance of misfits\", two countries that feel rejected and mistreated by the west joining forces.',\n",
              " 'Still despite the public display of reconciliation, the two still have major differences.',\n",
              " 'The key one is syria, where moscow has recently been casting itself as peacemaker, but where russia and turkey back opposite sides.',\n",
              " \"It could be telling that after almost three hours of initial talks. The two presidents told a press conference that they hadn't even touched on the topic.\",\n",
              " \"Turkey's president deliberately avoided answering a question on their differences while mr putin chose to underline them.\",\n",
              " 'There is no clear consensus on where they can seek common ground on syria,.',\n",
              " 'But after months of open hostility and given the potential for utter disaster, when nato member turkey shot down that russian fighter jet, it is surely better that the two leaders are at least talking again,.',\n",
              " 'Royal bank of scotland to disappear for customers outside scotland.',\n",
              " \"The brand rbs is to be reduced to a back office role according to the bank's chief executive.\",\n",
              " 'Royal bank of scotland will disappear for customers outside scotland.',\n",
              " \"Ross mcewan told bbc scotland that the rbs brand was associated with the bank's global ambitions.\",\n",
              " 'It has retreated from them since it nearly collapsed eight years ago and had to be bailed out.',\n",
              " \"During that time brand strategists have used 'rbs' to protect other consumer. Finance brands,.\",\n",
              " 'It was backed with millions of pounds in sponsorship of international sport, from six nations rugby to wimbledon champion. Andy murray.',\n",
              " 'But now it has been judged right to let more national brands, come to the fore.',\n",
              " 'Royal bank of scotland will be used with scottish customers, but will not be initialised.',\n",
              " 'In england and wales, all rbs references outside head office. And the stock exchange listing will be changed to natwest.',\n",
              " 'The ulster bank brand is already used for customers in the republic of ireland and northern ireland.',\n",
              " \"There are other smaller brands for private banking, which will get more prominence coutts. Adam &, co, drummond and holt's military bank,.\",\n",
              " 'Mr mcewan was interviewed during a tour of customers and staff in inverness. Shire.',\n",
              " 'He told bbc, scotland, \"the, rbs, brand will end up becoming our investor brand. And the one that our staff are employed with because we are now becoming much more a bank of brands. \".',\n",
              " 'As the bank itself became a global brand rbs became the global brand.',\n",
              " \"I'm now saying, we no longer have global aspirations. We have local aspirations.\",\n",
              " 'Each one of those brands will stand for something quite different in their own communities, and our staff will work with customers under those brands.',\n",
              " 'Rbs had already stated that it would not to continue its six nations sponsorship. And it has been raising the profile of different brands in its sports sponsorship.',\n",
              " '\"The time is right for us to move to the bank of brands because underneath (we\\'ve been asking). How do we focus on making this a better bank for customers \" said, the chief executive.',\n",
              " \"It would have been very cynical three years ago. If we'd said, we're going to be a great bank for customers and put those brands out there.\",\n",
              " \"But with the work we've been doing focussing on the customers needs not our own. I think you're seeing a lot of change.\",\n",
              " 'We can bring those brands back up again. So I think the time is right.',\n",
              " 'Frankie dettori reaches 3 000 winners with victory at newmarket on predilection.',\n",
              " 'Dettori sprays champagne after a double at newmarket takes him to 3 000 wins.',\n",
              " 'Jockey, frankie dettori secured his 3 000th british winner at newmarket on friday.',\n",
              " 'He brought up the landmark with his second winner of the night at his local track on predilection trained by john gosden,.',\n",
              " 'The 45 year old italian is the sixth jockey to reach the landmark in flat racing.',\n",
              " 'He follows sir gordon richards, doug smith, lester piggott, pat eddery and willie carson.',\n",
              " 'Three time champion jockey dettori who earlier won on ghayyar said, \"it\\'s, special \".',\n",
              " \"I'm very emotional, because my family are here as well.\",\n",
              " \"I'm very pleased for it to have happened at newmarket, because this is where I landed 30 years ago,.\",\n",
              " \"It's, not a big meeting it's, not a royal ascot it's. A mundane friday night with 20 000 people.\",\n",
              " \"I'm relieved and very humble.\",\n",
              " 'Dettori soaks up the cheers as he brings in predilection after victory.',\n",
              " 'Two jockeys have reached the milestone in jump racing champion, jockey, richard johnson and retired, 20 time champion, sir anthony mccoy, who had more than 4 300 victories in a record breaking career.',\n",
              " 'Lester piggott, nine time, derby winner, 4 493 career, wins.',\n",
              " 'Frankie is one of the best jockeys of the modern era. And it is no surprise. He has reached this landmark so few have achieved before him.',\n",
              " 'He is stylish and strong, but it is his tactical nous that sets him apart from others in the weighing room.',\n",
              " 'He is a fantastic ambassador for racing his enthusiasm and charisma have been drawing fans to the sport for years.',\n",
              " \"I said to frankie a few weeks ago at epsom, he'd have ridden 6, 000 winners. If he wasn't just a weekend and big race, jockey.\",\n",
              " \"Seriously though frankie's been riding winners in the uk. For the best part of 30 years, which is great to see.\",\n",
              " \"He's a lively character, which is good for british racing, but more than that he's, an incredible jockey.\",\n",
              " 'Frankie dettori celebrated, the milestone with a trademark flying dismount.',\n",
              " 'From flying finishes to flying dismounts. Frankie dettori has been the poster boy of british flat racing for two decades.',\n",
              " 'It has been a rollercoaster ride.',\n",
              " \"Stacks of big race winners, including his famous 1996, 'magnificent seven' at ascot. But he also survived a plane crash and served a drugs ban.\",\n",
              " 'Three years ago, he initially struggled when returning from that six month suspension, but he showed formidable strength of character to defy the doubters and return to his best.',\n",
              " 'And he may not be done for some time dettori has previously said, he would like to carry on competing until the age of 50 at least.',\n",
              " \"Russia's, putin sacks chief of staff, sergei ivanov.\",\n",
              " 'Russian president vladimir putin has unexpectedly dismissed. His chief of staff sergei ivanov.',\n",
              " \"Mr ivanov has been part of mr putin's, trusted inner circle for many years.\",\n",
              " 'The 63 year old has now been made a special representative for environmental and transport issues.',\n",
              " 'A statement from the kremlin said that mr putin had \"decreed to relieve ivanov of his duties as head of the russian presidential administration \", but gave no reason.',\n",
              " \"Mr ivanov's deputy since 2012, anton vaino has been appointed as his successor.\",\n",
              " 'Mr vaino 44 is a former diplomat.',\n",
              " 'Born in the estonian capital tallinn in 1972, he graduated from the prestigious moscow state institute of international relations, (mgimo) and served in the tokyo. Embassy.',\n",
              " 'Later, he managed presidential protocol and government staff. The kremlin website says, (in, russian).',\n",
              " 'On being appointed, he told mr putin \"thank you for your trust \".',\n",
              " \"I think the administration's most important task is to support your activity as head of state in terms of drafting laws and control over how your instructions are implemented.\",\n",
              " 'Mr putin told a russian tv station on friday that mr ivanov had asked to leave the post and recommended that mr vaino should replace him.',\n",
              " 'Do the smiles convince.',\n",
              " 'This is a move that has mystified moscow.',\n",
              " \"Sergei ivanov has long been one of vladimir, putin's, closest allies and like him served in the soviet security service. The kgb.\",\n",
              " 'As chief of staff, he was one of the most powerful men in the country.',\n",
              " 'In a meeting with president putin, shown on state television, both men claimed that the chief of staff was stepping down at his own request.',\n",
              " 'But despite the smiles for the cameras few here are convinced especially now just before parliamentary elections.',\n",
              " 'So is this the fall out from some kind of power struggle.',\n",
              " 'No one knows yet.',\n",
              " \"But the official claim that a man once touted as a potential president suddenly wanted to run russia's. Environmental policy has been met with great scepticism.\",\n",
              " 'In remarks to mr putin quoted on the kremlin website. Mr ivanov said, \"it\\'s true that in early 2012, I asked you in a conversation to entrust me with this very complicated post, even you could say, troublesome post for four years.',\n",
              " \"Well, it turns out that I've been presidential chief of staff for four years and eight months.\",\n",
              " 'Mr ivanov took up the post in december 2011,.',\n",
              " 'He served previously as a deputy prime minister and defence minister.',\n",
              " 'He is a member of the russian security council and a former member of the kgb state security service like mr, putin.',\n",
              " 'In the late 1990s, when mr putin was head of the federal security service, (fsb), which replaced the kgb. Mr ivanov was appointed as his deputy.',\n",
              " 'When mr putin came to power, he named mr ivanov as one of the five people. He trusted most.',\n",
              " \"It was once thought that mr ivanov might become president of russia after mr putin's second term as a third term for mr putin would have been unconstitutional.\",\n",
              " 'But that post was taken by another close putin, ally, dmitry, medvedev.',\n",
              " 'Mr putin became prime minister before returning to the presidency, just three and a half years later.',\n",
              " 'Criminal minds star thomas gibson, sacked after hitting producer.',\n",
              " 'Gibson was involved in a physical altercation on the set of the show in los angeles last month.',\n",
              " 'Abc studios and cbs television studios, which produce the series announced his dismissal in a joint statement.',\n",
              " 'Gibson who played special agent aaron hotchner issued, an apology on thursday before his termination was announced.',\n",
              " 'There were creative differences on the set and a disagreement.',\n",
              " 'I regret that it occurred \", he said in a statement.',\n",
              " \"Details on how gibson's character will be written out of the show, which follows a team of fbi agents is expected to come at a later date, according to the abc studios and cbs television studios, statement.\",\n",
              " 'The 54 year old who previously starred on the sitcom dharma &, greg had been on the show since its first season in 2005,.',\n",
              " '\"I love criminal minds and have put my heart and soul into it for the last twelve years. \" gibson said in a statement released on friday,.',\n",
              " \"I had hoped to see it through to the end, but that won't be possible. Now.\",\n",
              " 'I would just like to say, thank you to the writers, producers, actors, our amazing crew. And most importantly, the best fans that a show could ever hope to have.',\n",
              " 'The show is slated to return for its twelfth season on 28 september.',\n",
              " 'Mystery as fish land in banff garden,.',\n",
              " 'A banff man has appealed for help in identifying fish that have appeared in his garden in banff.',\n",
              " 'Kevin bain thinks the 75 fish could be sand eels deposited by a waterspout.',\n",
              " 'Mr bain who lives about 500m from the sea posted footage of the spectacle on periscope in the hope someone could shed light on the appearance of the two inch fish.',\n",
              " 'Queensferry crossing bridge now connected to fife.',\n",
              " 'The £1 35bn project is now due to be complete by may 2017.',\n",
              " \"Engineers have joined the queensferry crossing's north deck and viaduct, meaning the bridge is now connected to fife.\",\n",
              " 'It is the first of four closures between the \"deck fans, \", which are now nearing completion around each of the bridge\\'s three towers.',\n",
              " 'The bridge section from fife is now 600 metres long and weighs 30 000 tonnes.',\n",
              " 'It has 10 000 tonnes of steel and 20 000 tonnes of concrete and 46 stay cables.',\n",
              " 'The £1 35bn project is now due to be complete by may 2017.',\n",
              " 'Economy secretary, keith brown visited the site today and was among the first to walk from the land on to the bridge.',\n",
              " 'He said, \"this is a historic and symbolic moment in the building of the queensferry crossing.',\n",
              " \"We're all witnessing engineering on a truly epic scale on this project with over 30 000 tonnes of concrete and steel used just to build this part of the bridge.\",\n",
              " 'Despite the massive size and weight of the bridge completing the closure between the viaduct and bridge deck is a delicate operation involving extremely precise tolerances for fit up.',\n",
              " 'Overall nearly 79% of the total bridge deck is now in place. The final section of deck is having its concrete deck cast in rosyth today, meaning all the deck is ready to be lifted into place on the bridge.',\n",
              " 'Michael martin forth crossing bridge. Constructors project. Director said, \"the first closure on any bridge project is always a significant milestone.',\n",
              " 'On this fantastic project, this closure represents leading edge, civil engineering.',\n",
              " 'After installing the last road deck section and connecting it to the expanding north tower road deck. We then had to close the remaining gap on the north or landward side.',\n",
              " 'This was done by pulling the northern approach viaduct, 700 millimetres southwards.',\n",
              " 'This was a massive, and at the same time, very delicate operation.',\n",
              " 'Massive because the viaduct is 222 metres long weighs approximately 6, 000 tonnes and had to be pulled up a gradient of about 3%.',\n",
              " 'Delicate because the tolerances, the team were working to were tiny, just a few millimetres either way.',\n",
              " 'Happily it all went very well.',\n",
              " \"Moelfre bay rescue. Three men are 'lucky to be alive'.\",\n",
              " 'Three men are \"lucky to be alive\" after they were thrown from their fishing boat off anglesey.',\n",
              " 'Moelfre rnli lifeboat station raised the alarm at 13 20 bst on friday after a crew saw the incident unfold in moelfre bay.',\n",
              " 'The three men struggled to swim to safety while their boat continued under its own power.',\n",
              " '\"We saw their boat circling close to them and imagined the worst \" said, moelfre, lifeboat, helm, vince jones,.',\n",
              " '\"Fortunately by the time we had launched the strong winds had blown it clear of them \". He added.',\n",
              " 'Two of the men were rescued by a local fishing boat, while the third man aged 60 was found exhausted and clinging to a buoy without a lifejacket.',\n",
              " 'They were all taken on board, the inshore lifeboat and brought back to the lifeboat station.',\n",
              " 'Mr jones said, \"the, three men thrown in the water are lucky to be alive and completely uninjured.',\n",
              " \"The boat's engine had an emergency kill cord, but it had somehow come detached from the person driving the boat when it capsized.\",\n",
              " 'Someone was watching over these guys today.',\n",
              " 'Pokémon go a worthy hunt for health and happiness.',\n",
              " 'It is fascinating to see how the world turns.',\n",
              " 'That teenagers and children do not get outside to play any more preferring to spend their free time looking at screens has been the lament of many for the the past decade.',\n",
              " 'Pokemon go is getting people off the couch and into some activity.',\n",
              " 'Screen time was initially limited to the television then video games and more recently, smartphones.',\n",
              " 'So it is great to see that technology and being active outdoors are not mutually exclusive.',\n",
              " 'I am of course, referring to the craze that is pokémon go an app based on the characters first created for video games in the 1990s, (it later, spawned a cartoon series playing cards and other spin offs).',\n",
              " 'Like many pop cultural phenomena. It had gone off the boil somewhat before this new game was made available in the us. Australia and new zealand in early july.',\n",
              " 'The launch in other countries was then delayed by the massive response, which overloaded servers.',\n",
              " 'Within days, pokémon go had more users than tinder. And nearly as many as twitter.',\n",
              " 'So how does it work.',\n",
              " \"In a nutshell players on smartphones go out looking for pokémons, which are tracked with a gps. And once found can be 'photographed' (via a screenshot on your phone) or 'captured'.\",\n",
              " 'A generation who played the game when younger have joined the craze jumping off the couch for the search.',\n",
              " 'In the us. The game has led to a significant increase in the number of steps taken by the \"average\" person each day.',\n",
              " 'Cardiogram an app for the apple watch that tracks 35 000 users told the washington post recently that within two days of the game launching the number of people it tracked who did 30 minutes of exercise each day jumped from 45 per cent to 53 per cent.',\n",
              " 'The company does not know who is playing pokémon go. It just sees raw data on exercise levels.',\n",
              " 'Many public health campaigns to get people to \"find, 30, \" \"get off the couch\" and \"be active everyday\" have fallen on deaf ears because most public health messages are boring and delivered by people who look miserable.',\n",
              " 'Yet, the importance of exercise cannot be understated.',\n",
              " 'Those who exercise regularly reduce their chances of getting cancer or depression,.',\n",
              " 'Activity helps with weight management, high blood pressure diabetes and a long list of benefits too long to list here.',\n",
              " 'But the beauty of pokémon go is it gets people outside doing something they enjoy.',\n",
              " 'Thus you are covering three pillars of health movement, fresh air and sunshine and fun.',\n",
              " 'Some people are even making new friends on the hunt.',\n",
              " 'As usual, there are po faced killjoys, looking for something to complain about.',\n",
              " 'And yes, somebody might walk into a door.',\n",
              " 'So what.',\n",
              " 'A breakthrough has occurred.',\n",
              " \"For while smartphone apps like fitbit could previously track our activity, they didn't give us a reason to exercise like this game does.\",\n",
              " 'The novelty will wear off and use will subside in due course,.',\n",
              " \"However, because of pokmeon's success, there will be more games that combine apps and virtual reality with being active in the real world, helping many people on the hunt to be more active, fitter and healthier.\",\n",
              " \"Read. Dr, joe's blogs at www drjoetoday com.\",\n",
              " \"Simone biles, nails, all around gold in women's gymnastics.\",\n",
              " 'Forget the pressure.',\n",
              " 'Forget the hype.',\n",
              " 'Simone biles is immune to all of it.',\n",
              " 'Dynamic on vault.',\n",
              " 'Effortless on beam.',\n",
              " 'Jaw dropping on floor.',\n",
              " 'Brilliant all over.',\n",
              " 'And now finally, an olympic champion.',\n",
              " 'The 19 year old american gymnast soared to the all around title on thursday, putting the gap between herself and the rest of the world on full display under the olympic spotlight.',\n",
              " 'Her total of 62 198 was well, clear of silver medalist and \"final, five\", teammate, aly, raisman and russian bronze medalist, aliya mustafina.',\n",
              " \"United states' simone biles performs on the balance beam during the artistic gymnastics women's individual all around final at the 2016 summer olympics in rio de janeiro brazil, thursday.\",\n",
              " 'Biles became the fourth straight american woman to win the all around title and fifth overall while cementing her reputation as the best of her generation and perhaps ever.',\n",
              " 'She burst into tears when her final total was posted and her long journey to this moment, ended.',\n",
              " 'The achievement puts her in the same league as once in a generation athletes, like michael phelps, who have taken their sports to new heights.',\n",
              " 'Biles has spent the last three years dominating her sport winning 15 world, championship medals, including 10 gold with routines. So astonishing in their mix of ambition and precision that 1984 olympic champion mary lou retton called her \"the greatest gymnast I\\'ve ever seen \".',\n",
              " 'One last test awaited in brazil, a contest not so much between biles and the rest of the field, but between herself and the burden of oversized expectations.',\n",
              " \"Anything less than heading back to her family's home in spring, texas with a fistful of golds would be seen as a disappointment.\",\n",
              " \"United states', simone, biles left and aly raisman embrace after winning gold and silver respectively for the artistic gymnastics women's individual all around final at the 2016 summer olympics in rio de janeiro, brazil, thursday, aug.\",\n",
              " \"Biles earned the first one on tuesday while serving as the exclamation point to retiring national team, coordinator martha, karolyi's going away party.\",\n",
              " \"While biles, insisted, she's never looked ahead during her long run at the top that's, not exactly true.\",\n",
              " 'A portion of her floor, exercise routine. The one that includes her signature, tumbling pass is set to latin music that would fit right at home in the street right outside the rio olympic arena.',\n",
              " \"It's, not a coincidence.\",\n",
              " \"The girl adopted by her grandparents as a toddler and discovered by coach, aimee boorman's mother during a field trip to the gym where boorman was coaching has become a force.\",\n",
              " \"She hasn't lost an all around competition since the summer of 2013, a winning streak that should go for as long as biles wants it to.\",\n",
              " 'Though mustafina took a small lead through two rotations. It was a mirage.',\n",
              " 'Balance beam and floor exercise where biles is the defending world champion lay in wait.',\n",
              " 'She went back in front with a 15 433 on beam and capped it with a 15 933 on floor,.',\n",
              " \"Raisman hugged her gently as they awaited. The final score, a mere formality and tears appeared around biles', glittery, red, white and blue eyeliner. When the vision she once wrote in a scrapbook became a reality.\",\n",
              " \"Raisman's performance was a bit of revenge from four years ago when she tied for third, but lost the bronze to mustafina on a tiebreaker.\",\n",
              " 'This time, the 22 year old team, captain, the americans call \"grandma\" was well ahead.',\n",
              " 'She blew kisses to the crowd after her floor, exercise overcome by a comeback that at times seemed in doubt.',\n",
              " \"As for biles, the 19 year, old's viral, tweet from earlier this week now carries a whole new meaning.\",\n",
              " 'Police 3 victims in serial killer case, shot while listening to music in car.',\n",
              " \"Two women and a 12 year old girl who died in the deadliest attack in phoenix's. First serial killer case in a decade were sitting in a car talking and listening to music when they were shot. According to police reports released thursday,.\",\n",
              " \"Angela, rochelle, liner, stefanie r, ellis and ellis' daughter. Maleah were shot on june 12 while the car was parked in a driveway. Authorities said.\",\n",
              " 'The gunman fired as many as eight shots from a handgun while standing on the passenger side of the car then fled in another vehicle. The report states.',\n",
              " \"Police say, the triple killing doesn't appear to have been the result of a robbery because the attacker didn't take purses or $2, 900 in the possession of one of the adult victims.\",\n",
              " 'Phoenix, police spokesman, sgt, jonathan howard said, the shooting prompted investigators to look at whether it was tied to four earlier attacks.',\n",
              " 'In all seven people have been killed and two others wounded in nine attacks in two predominantly hispanic neighborhoods over a four month period.',\n",
              " '\"It\\'s occurring within a residential area in front of a home \". Howard said to cbs, affiliate kpho earlier this month.',\n",
              " 'The suspect is believed to have used several vehicles, including as a late 1990s, brown nissan a late 1990s, black bmw and a white cadillac or lincoln.',\n",
              " 'Investigators have declined to reveal the evidence that led them to conclude, the attacks are related and committed by the same killer.',\n",
              " 'Ellis, 33 was hospitalized for her injuries and later died.',\n",
              " \"Liner 31 and ellis' daughter, maleah died at the scene.\",\n",
              " \"A witness told police that it wasn't unusual for them to sit in a parked car listening to music.\",\n",
              " 'Authorities also released a police report on a shooting that targeted an unoccupied pickup truck, just a half hour before the triple killing and is believed to have been the work of the serial killer.',\n",
              " 'Investigators found bullet casings and recovered a bullet from a seat and bullet fragments from the engine compartment.',\n",
              " 'Mother of 6 year old with microcephaly \"it gets better\".',\n",
              " 'Like most six year olds edmund picciuto loves singing toys. And of course, his mother.',\n",
              " \"But unlike most of his peers, edmund has microcephaly the result of a genetic disorder, his mom. Elizabeth, picciuto, didn't know about while pregnant.\",\n",
              " \"When he first came home, my initial thought was I can't do this.\",\n",
              " \"I can't do this.\",\n",
              " \"I didn't sign up for this.\",\n",
              " 'Which is not true at all, of course, you sign up for it \". She said,.',\n",
              " 'She and her husband vincent were told edmund might never recognize them and that he might not even survive.',\n",
              " 'Some doctors went as far as suggesting he be institutionalized.',\n",
              " '\"My first response was \\'I didn\\'t think people did that anymore. \\'\" picciuto explained.',\n",
              " 'Edmund walks with the help of a walker.',\n",
              " \"Edmund didn't sit up or crawl until he was three, and he still doesn't talk.\",\n",
              " \"But he's slowly meeting some milestones.\",\n",
              " \"He's walking with help and riding a bike.\",\n",
              " 'He also loves playing with his two brothers and singing.',\n",
              " 'Elizabeth demonstrates the sign language. Edmund made up for \"please sing to me \".',\n",
              " '\"We\\'re teaching him sign language. \" picciuto told cbs news,.',\n",
              " \"But it's, not just typical sign language. She says edmund has invented some of his own signs.\",\n",
              " \"Microcephaly can arise from a number of different conditions, genetic ones like edmund's and infections during pregnancy from viruses like measles and zika.\",\n",
              " 'Symptoms and prognosis can vary widely.',\n",
              " \"It's too early to tell how it will affect the lives of those infected with zika.\",\n",
              " 'Picciuto remembers the emotional toll of an uncertain future.',\n",
              " \"I kept saying, what's going to happen.\",\n",
              " \"What's going to happen.\",\n",
              " \"And she still doesn't really know.\",\n",
              " \"I actually haven't asked for a prognosis in forever, because I don't expect anyone to really be able to tell me.\",\n",
              " 'But picciuto has hopeful advice for the mothers of babies with birth defects from zika.',\n",
              " 'It gets better.',\n",
              " 'You know, it will get better for you.',\n",
              " 'You will love your child and your child will love you.',\n",
              " 'Heavy rain flooding, prompts, rescues in louisiana. Mississippi.',\n",
              " 'Heavy rain and widespread flooding in louisiana lead. The governor to declare a state of emergency on friday with more rain expected over the state through saturday,.',\n",
              " 'Numerous rivers in southeast louisiana and southern mississippi were overflowing their banks and threatening widespread flooding. After extreme rainfall, the national weather service reported.',\n",
              " 'Louisiana gov, john bel, edwards said, state officials are in constant contact with local officials and assistance is already on the move to affected parishes.',\n",
              " \"Mike, steele, a spokesman for the governor's office of homeland security and emergency preparedness said, requests were coming in for high water vehicles boats and sandbags.\",\n",
              " 'Steele said, tangipahoa, parish alone, requested tens of thousands of sandbags.',\n",
              " 'A flood watch remains in effect until saturday across most of south louisiana.',\n",
              " 'The weather service said in a statement that an additional 3 to 5 inches could fall over the area.',\n",
              " 'In south alabama, a flood watch was in effect. Friday as rain continued in the mobile area.',\n",
              " 'The comite river near baton rouge and amite river near denham springs. Both in louisiana were predicted to set record crests over the weekend.',\n",
              " 'Forecaster alek krautmann said, both rivers could flood many houses in suburban areas near baton rouge.',\n",
              " 'He also said that flooding downstream in ascension, parish is a threat as those swollen rivers will be slow to drain into lake maurepas.',\n",
              " 'The tickfaw river, just south of the mississippi state line in liverpool louisiana was already at the highest level ever recorded at 9 a m. Friday.',\n",
              " 'Rescuers were still plucking people from floodwaters in amite and wilkinson counties in southwest mississippi.',\n",
              " 'Leroy hansford his wife and stepson were among those rescued earlier friday near gloster.',\n",
              " 'Hansford, 62 says, waters from beaver creek, which is normally more than 400 feet away from his house. Rose quickly overnight.',\n",
              " 'He said, another stepson who lives nearby alerted him.',\n",
              " '\"We woke up. And the water kept on coming \". Hansford said,.',\n",
              " 'It came up to my waist.',\n",
              " \"His wife told hansford that it's the highest she's seen the creek in the 48 years she's lived there.\",\n",
              " \"Hansford said, he and his family members, all have disabilities and he's. The only one who can swim.\",\n",
              " 'Hansford said, emergency workers rescued all three in a large military style, truck and took them to the fire station in gloster where they were sheltering friday.',\n",
              " 'Krautmann says, flooding is \"quickly becoming widespread\" as heavy rains. Continue saying, officials are considering evacuation orders.',\n",
              " 'Krautmann says, one observer near livingston reported 13 75 inches of rain from midnight to friday morning.',\n",
              " 'Krautmann said, the ground was heavily saturated by rainfall since wednesday,.',\n",
              " 'Heavy rain and street, flooding prompted the rescue of residents from their homes in tangipahoa parish. And the cancellation of classes in five school districts, authorities said,.',\n",
              " 'Cbs, affiliate, wwl reports that an alderwoman in tangipahoa said, 200 homes flooded.',\n",
              " 'Residents had been evacuated to two churches, but both are now flooding.',\n",
              " 'Parish president robby miller said, authorities rescued 72 people and seven pets stranded by high water.',\n",
              " 'Shelters have been opened in the town of amite and the city of hammond to house those who were evacuated.',\n",
              " '\"They will be allowed to return home. Once the water starts to recede \". He said,.',\n",
              " 'In the tangipahoa parish city of hammond close to two dozen streets were closed because of high water and sandbags were made available for pickup by residents, hoping to keep water out of homes and businesses.',\n",
              " '\"The last major flood we had was in march. \" said, city administrator, lacy landrum.',\n",
              " 'This one is on track to be a similar event.',\n",
              " 'In mississippi. Harrison, county, emergency manager. Rupert lacy said, steady rain continued on the gulf coast.',\n",
              " 'He said, a handful of houses were reported as flooded thursday, but none have been reported so far friday.',\n",
              " 'Keith townson manager of shopper value foods in amite has lived in the area for 40 years.',\n",
              " '\"I\\'ve seen water in some places I have never seen before \" townson said, \"and, it\\'s, still coming down \".',\n",
              " 'Mahaj brown 6, \"riddled with bullets \" survives, philadelphia, shooting.',\n",
              " 'Police say, a 6 year old boy has been shot in philadelphia marking the second shooting of a 6 year old in the city. This week.',\n",
              " \"The child's grandparents, identified him to cbs philadelphia as mahaj brown.\",\n",
              " 'The grandparents say, brown suffered multiple gunshot wounds, including in his groin leg, arm and abdomen, but was awake when he was transported to the hospital.',\n",
              " '\"He just took a lot. His little body was riddled with bullets \". His grandmother, delores melendez tells the station.',\n",
              " \"I just can't believe it.\",\n",
              " 'The boy is listed in critical condition at a hospital and has undergone several surgeries.',\n",
              " 'Family tells the station he is expected to recover.',\n",
              " 'He was set to start first grade at a local, elementary school.',\n",
              " 'Brown was among four people shot in the germantown section.',\n",
              " 'Also shot were three men, two 29 year olds and one 32 year old.',\n",
              " 'One of the 29 year old men was reported in critical condition. The other two victims were listed in stable condition. According to cbs philadelphia.',\n",
              " 'The child was found shot in the front seat of a car along with the 29 year old in critical condition, the station reports.',\n",
              " 'The other two victims were not in the car. And police are investigating whether any of the wounded men could be a shooter.',\n",
              " 'Investigators tells cbs philadelphia, it appears there was crossfire between multiple gunmen.',\n",
              " 'Assault weapon style, shell, casings traced to different assault style. Weapons littered the scene.',\n",
              " 'It appears that this was definitely an ongoing battle.',\n",
              " 'There were casings in the street on both sides of the sidewalk.',\n",
              " 'So it appears that there were multiple armed combatants out here and that they were actively engaged \", philadelphia, police, captain anthony ginaldi told the station.',\n",
              " 'Multiple houses and vehicles in the area were also struck.',\n",
              " 'No arrests have been made and police are reportedly reviewing surveillance. Video.',\n",
              " 'Another 6 year old, a girl was hit in her arm by a stray bullet tuesday while playing in front of her home in the west oak lane neighborhood.',\n",
              " 'She is recovering and police are still searching for a suspect.',\n",
              " 'Why we need simone gabby and laurie.',\n",
              " \"That's what I call this year's, women's olympic gymnastics team. And for more reasons than one.\",\n",
              " 'First I have been to every summer olympics since 1984 and the usa has never been so dominant.',\n",
              " 'And second, this team features, three, gymnasts, simone, biles, gabby douglas and lauren \"laurie\" hernandez who have been inspiring. So many young girls of color.',\n",
              " 'The make up of this team rounded out by aly raisman, who is jewish and madison kocian who is catholic is making everyone proud.',\n",
              " 'This team looks finally like america.',\n",
              " 'It also has solidified the black and latina female presence at the top of this sport.',\n",
              " 'For the past four years, the number one female gymnast has been african american.',\n",
              " 'Last year, simone and gabby were #1 and #2,.',\n",
              " 'This is powerful.',\n",
              " 'Last olympics, gabby douglas was a surprise olympic champion and america cheered.',\n",
              " 'Now, the world has been able to witness the incredible performances of three time world, champion, simone, biles douglas and laurie hernandez delivering the unexpected yet, masterful gymnastics routines.',\n",
              " \"On thursday, simone became the fourth straight american to win gold in the women's individual all around event.\",\n",
              " 'And teammate aly raisman earned silver.',\n",
              " 'We are witnessing the top of the sport, but it does not look like this at gymnastics classes across the country.',\n",
              " 'Simone gabby and laurie all took the same path as aly and madison to make the olympic team.',\n",
              " 'They are the \"final five\" because the next olympic gymnastics team will only have four gymnasts on the team. And this is marta karolyi\\'s last year, coaching.',\n",
              " 'But the reality is that gymnastics is an expensive sport and gymnasts primarily train in private gymnastics clubs that are maintained by parents, paying the cost of the training facility travel uniforms, competition fees, hotel fees, (for the coaches and their gymnasts and families). And the list goes on.',\n",
              " 'Most of these gymnastics clubs are located in affluent suburban neighborhoods that can support the business.',\n",
              " \"These clubs are where the gymnasts get all of their training and it's a costly and long term commitment for the gymnasts' families.\",\n",
              " 'Aimee boorman coach of simone, biles and maggie haney coach of laurie hernandez have both coached their athletes since they started in gymnastics.',\n",
              " 'We must bring more affordable and accessible gymnastics training to the communities of countless young girls who are inspired by simone gabby and laurie.',\n",
              " 'I founded my gymnastics foundation, 20 years ago,.',\n",
              " 'At my organizations, we have provided free and low cost gymnastics based in harlem for over 15 000 urban youth, (primarily, black and hispanic) and have trained national and international champions.',\n",
              " 'In september, we will be expanding to detroit, (my hometown) to provide high quality gymnastics to the youth that deserve the opportunity to learn and benefit from this great olympic sport.',\n",
              " 'Gymnastics develops strength flexibility and coordination for the body and hard work discipline and determination for the mind.',\n",
              " 'This combination provides life long benefits for good health success in school and work.',\n",
              " 'It is the inspiration of this team that will send thousands of young girls to take gymnastics. And that is great.',\n",
              " 'To participate in sport is so important, especially for girls.',\n",
              " 'This is such an exciting time.',\n",
              " 'Thank you simone aly, laurie gabby and madison for that serious showcase of \"girl power\" in winning the olympic team gold and for motivating. So many young girls of all backgrounds to begin their path to be healthy strong and successful young women.',\n",
              " \"Junior doctors set to mount further strikes after rejecting jeremy hunt's proposal.\",\n",
              " 'Ministers had hoped to end the dispute over the changes by agreeing to a reformed contract with british medical association officials, but 58 per cent of the 37 000 junior doctors, who took part in a ballot had rejected it.',\n",
              " 'In july, mr hunt revealed plans to impose the contract saying, the nhs was in \"no man\\'s land\". And any further delay would be damaging for staff and patients.',\n",
              " 'The first junior doctors are moved onto the new contract, which includes changes to overnight and weekend working practices to improve care at unsociable hours.',\n",
              " 'Dr, ellen mccourt the bma\\'s junior doctors\" committee chair said in a statement last night, \"junior, doctors, still have serious concerns about the proposed contract, particularly that it will fuel the current workforce crisis and that it fails to treat all doctors, fairly \".',\n",
              " 'With just eight weeks before the first group of doctors are moved onto the new contract progress needs to be made and time is running out.',\n",
              " 'Efforts by the bma to resolve, the dispute through talks have been met with an unwillingness to engage. And at times deafening silence from the government.',\n",
              " 'This is despite a promise from jeremy hunt, just last month that his door is always open.',\n",
              " '\"Jeremy hunt needs to act now lift the imposition and address junior doctors\". Concerns.',\n",
              " 'If he does not then junior doctors are clear that they are prepared to take further industrial action.',\n",
              " 'The last strike at the end of april saw the postponement of nearly 13 000 routine operations and 100 000 appointments as nurses and consultants were drafted in to provide cover for doctors on the picket line.',\n",
              " 'Ministers had hoped to end the dispute over the changes by agreeing to a reformed contract with british medical association. Officials.',\n",
              " 'The bma wants better weekend pay for the 54 000 junior doctors, who would be subject of the contract.',\n",
              " 'Daniel mortimer chief executive of nhs employers called on junior doctors, not to go ahead with any strikes.',\n",
              " 'Mr, mortimer said, \"industrial action, achieves little or nothing, but places pressure on already stretched teams and services and causes worry distress and disruption for patients carers and their families \".',\n",
              " 'Over the last two months, we have been talking with the junior doctors committee and have along with the department of health and others responded positively to their concerns regarding the guardian role and whistleblowing.',\n",
              " 'Employers were hopeful that the continued positive engagement on other important topics, such as deployment flexibility in training additional training for those returning from career, breaks costs of training, mutual recognition of syllabus study leave and the gender pay gap in medicine were a sign of how serious employers health education, england. And the department of health were about honouring. The agreements reached with the bma in november february and may.',\n",
              " 'The £2 a day drug that can cut heart attack threat.',\n",
              " 'Thousands of heart attack. Patients are to benefit from a £2 a day drug after officials, recommended it be given to more people for longer.',\n",
              " 'Anti clotting drug, ticagrelor slashes, the risk of repeat attacks for people with heart disease.',\n",
              " 'The drug is already given for 12 months after a heart attack, reducing the risk of a stroke or another attack.',\n",
              " 'Nhs, watchdog nice has advised that it should be given to people for four years to further reduce the risk of cardiovascular problems.',\n",
              " 'But now nhs, watchdog nice has advised that it should be given to people for four years to further reduce the risk of cardiovascular problems.',\n",
              " 'Some 140 000, people have a heart attack in england every year and a quarter of these go on to have another attack or a stroke.',\n",
              " 'Heart attacks and strokes are caused by the build up of fatty material in artery walls to form a plaque.',\n",
              " 'If the plaque breaks apart, it can cause a blood clot, blocking blood to the heart causing a heart attack.',\n",
              " 'And if the clot dislodges, it can travel in the blood stream and block blood flow to the brain causing a stroke.',\n",
              " 'People who have already have one attack are at a higher risk of having another.',\n",
              " 'Ticagrelor which is made by uk, firm astrazeneca and sold under the trade name. Brilique reduces this risk by making clots less likely.',\n",
              " 'The draft nice guidance published today, recommends that people be given 90 mg of ticagrelor for 12 months, followed by 60mg along with aspirin twice a day for another three years.',\n",
              " 'Professor carole longson director at the nice health technology evaluation centre said, \"despite, the availability of effective, secondary prevention treatments as many as a quarter of people who have had a heart attack go on to have another heart attack or stroke, often with devastating consequences, \".',\n",
              " \"Fear of a recurrence can have a significant negative impact on a person's quality of life.\",\n",
              " 'The evidence shows that ticagrelor in combination with aspirin is effective at reducing the risk of further heart attacks and strokes in people who have already had a heart attack.',\n",
              " 'In provisionally recommending ticagrelor. We are pleased to be able to increase the treatment options available to the many thousands of people who stand to benefit from it.',\n",
              " 'Because information on the efficacy and safety of ticagrelor, particularly the risk of bleeding beyond three years is limited. The draft guidance does not recommend treatment with it beyond that period.',\n",
              " 'Pc culture, let vote fraud in muslim areas flourish.',\n",
              " 'Ex tower. Hamlets. Mayor lutfur rahman was removed from office last year for corruption. Prompting. The government report.',\n",
              " 'A culture of political correctness has led to a blind eye being turned to widespread voting fraud in muslim communities, a devastating. Government report reveals today.',\n",
              " 'Ex cabinet minister, sir eric pickles, lambasts, the police election, watchdogs and town halls for ignoring evidence of electoral abuse because of \"over sensitivities about ethnicity and religion, \".',\n",
              " 'The former communities secretary now, the anti corruption, tsar said, the intimidation of voters on religious grounds was so bad that police should be allowed to put cordons outside polling stations to protect frightened. Voters.',\n",
              " 'He recommends that voters should have to take id to prove who they are when they vote.',\n",
              " 'Currently a voter, merely has to state their name and address.',\n",
              " \"The report even suggests putting indelible ink on a person's fingers as they cast their ballot to prevent anyone being able to vote twice.\",\n",
              " 'Greater protection should be given to whistleblowers sir, eric says,.',\n",
              " 'He calls for the press to be given greater access to council papers and decisions taken by unofficial committees or working groups.',\n",
              " '\"This is not solely to protect against electoral fraud, but to protect local government from the broader culture of corruption and financial fraud that goes hand in hand with it \". He said,.',\n",
              " 'The report was ordered by downing street in the wake of the tower, hamlets voting scandal in east london.',\n",
              " 'Last year, a special election court ruled. The sitting mayor lutfur rahman should be removed from office following a litany of corrupt and illegal practices.',\n",
              " 'The court found rahman, \"cynically perverted\", the religious feeling of his muslim community and silenced his critics with accusations of racism and islamophobia.',\n",
              " 'Rahman, it was said, \"ran his campaign on the basis that it was the religious duty of faithful muslims to vote for him. \".',\n",
              " 'Up to 300 votes were dubious or the result of personation where a person votes while posing as someone else.',\n",
              " 'Sir eric said, there was evidence of fraud across the country.',\n",
              " 'He voiced particular alarm about postal voting fraud in which senior members of the muslim community were said to have exerted pressure on people to vote for a candidate of their choosing.',\n",
              " 'Sir eric pictured made several recommendations to clean up the voting system, including bringing your id to prove who you are.',\n",
              " 'His report says, \"evidence was presented of pressure being put on vulnerable members of some ethnic minority communities, particularly women and young people to vote, according to the will of the elders, especially in communities of pakistani and bangladeshi background.',\n",
              " '\"There were concerns that state institutions had turned a blind eye to such behaviour because of \"politically correct\" over sensitivities about ethnicity and religion, \".',\n",
              " 'Sir eric made 50 recommendations to clean up the system, including banning political activists from handling postal ballot papers to stop \"vote harvesting \".',\n",
              " 'The report being considered by theresa may also calls for tougher checks on registration to prevent the electoral register being used for immigration and benefit fraud.',\n",
              " 'Consider the options for requiring voters to produce id before voting.',\n",
              " \"Use indelible ink on a person's fingers once they cast their ballot to prevent anyone voting twice.\",\n",
              " \"Carry out systematic checks on a person's nationality to ensure they are eligible to vote.\",\n",
              " 'Put a three year limit on requests for an automatic postal vote.',\n",
              " 'Ban political campaigners and activists from handling completed postal votes and postal vote, envelopes.',\n",
              " 'Give police powers to set up cordons around polling stations,.',\n",
              " 'Change the law to make it easier to charge people with intimidation under the representation of the people act 1983,.',\n",
              " 'Make it illegal to take pictures in polling stations.',\n",
              " 'Make it a requirement that only english is to be used in polling stations, (except in wales).',\n",
              " 'Strengthen training to ensure staff enforce the rule that voters go to the booth alone.',\n",
              " 'Sir eric savages, the metropolitan police saying, it is \"astonishing\" that no criminal charges were brought after the tower hamlets case.',\n",
              " '\"The election court, disqualified, lutfur rahman and his agent for a litany of corrupt and illegal practices \". He said,.',\n",
              " 'He was found guilty beyond reasonable doubt to a criminal standard of proof on a series of grounds.',\n",
              " 'He also criticises the ineffectual \"tick box, inspections\" of town hall, electoral registration departments.',\n",
              " 'Sir eric said, \"last, year\\'s court ruling in tower. Hamlets was a wake up call.',\n",
              " 'Our nation has a proud heritage as the mother of parliaments yet, the worrying and covert spread of electoral fraud and state of denial by some bodies, threatens that good reputation.',\n",
              " \"Crazy for kate's, cyclist lookalike and other celeb doppelgangers of rio olympians.\",\n",
              " 'Fans of the rio 2016 olympics. This week have gone wild for french. Cyclist, pauline, ferrand prevot, who has proven an impressive lookalike for the duchess of cambridge.',\n",
              " 'But the 24 year old olympian is far from the only athlete out fighting for gold this summer that boasts their own celebrity doppelganger at least not according to social media.',\n",
              " 'So in honor of the rio games and all the famous faces crossing our screens at the moment, femail have compiled a list of olympians who bear more than a passing resemblance with hollywood celebs.',\n",
              " \"The hunter and the wolf u. S, men's, archery. Team member brady ellison left has been compared to leonardo dicaprio since he was a kid.\",\n",
              " \"Aside from kate's doppelganger on the cycling track, many people online have been quick to point out how a certain archer could be the twin of a lister leonardo dicaprio.\",\n",
              " \"U s, men's, archery team member brady ellison has caused a storm on twitter after images of him, looking eerily similar to the wolf of wall street star surfaced.\",\n",
              " 'And in fact, the archer became aware of the social media frenzy and admitted that he has been hearing that he looks like leo since he was a kid.',\n",
              " \"'I personally don't see a huge resemblance. Maybe besides the facial hair, ' brady told huffington post.\",\n",
              " \"'he is a good looking dude. So I guess it's a compliment '.\",\n",
              " 'One of the most popular comparisons from london 2012 is undoubtedly going to be pointed out even more this year, the striking likeness between british long jumper, greg rutherford and popular actor. Neil patrick harris.',\n",
              " 'Russian gymnast, aliya mustafina with her large. Expressive eyes has been said to be a dead ringer for cuban american singer, gloria, estefan.',\n",
              " 'And over in the pool, south african swimmer, cameron van der burgh has been getting compared to glee star, matthew morrison for years. Now,.',\n",
              " \"Changing it up this user reckons that nathan is an 'athletic version' of the inception actor.\",\n",
              " 'Another long running comparison has been between tennis star, rafael, nadal and actor. Josh hartnett who boast a similar heavy brow and lips.',\n",
              " \"Silver medal swimmer, russia's, yulia, efimova boasts, more than just the same sunkissed skin and blonde hair as actress annalynne mccord. While team usa's, nathan adrian has been said by fans to resemble an 'athletic version of joseph gorgon levitt, '.\",\n",
              " 'Tough women soccer star hope solo left and dexter actress. Jennifer carpenter right have similar face shapes and eyes.',\n",
              " 'Not the only one one twitter user was very pleased that others also saw the similaritiest.',\n",
              " \"Floating a theory according to this user, perhaps there is a reason behind the pair's similar looks.\",\n",
              " \"One twitter user took to the site recently to declare her happiness that 'the rest of the internet thinks that hope solo. And jennifer carpenter are actually identical '.\",\n",
              " 'Indeed, the usa soccer star and the dexter actress share incredibly similar face shapes and eyes.',\n",
              " 'Other popular comparisons have included kerri, walsh, jennings and her smile that is near identical to that of actress laura, linney as well as gold medal, winning gymnast, gabby douglas who boasts her own beautifully broad smile that matches that of bring it on star gabrielle union.',\n",
              " \"Cbc olympics. Commentator, apologizes for saying, chinese swimmer, 'died like a pig'.\",\n",
              " \"Byron macdonald's analysis of 14 year old ai, yanhan's fourth place finish at the women's 4x200m freestyle, relay outraged viewers of cbc's live olympic coverage. On wednesday,.\",\n",
              " \"Canadian broadcaster cbc has been forced to apologize after one of its commentators said, a 14 year old female chinese swimmer, 'went out like stink' and 'died like a pig' during a race.\",\n",
              " \"Commentator byron macdonald thought, his mic was turned off when he started to dispense some of his own opinions at the end of the women's 4x200m freestyle, relay final.\",\n",
              " \"Macdonald who was brought on board, cbc's commentary team to provide 'color' could be heard saying, 'that little 14 year old from china dropped the ball baby'.\",\n",
              " 'Too excited went out like stink died like a pig.',\n",
              " 'Thanks for that.',\n",
              " \"Chinese swimmer ai, yanhan, 14, swam the second leg of the relay in 1 57, 79 1 61 seconds slower than canada's, taylor, ruck, allowing the canadians to close the gap on china.\",\n",
              " 'Viewers across canada were quick to react online after being shocked by the tone and the language used.',\n",
              " 'Emmett, macfarlane, tweeted \"did, the cbc. Announcer, just say the 14 year old swimmer from china \\'died like a pig\\'\".',\n",
              " \"The idiot didn't realize they were still on the air '.\",\n",
              " \"Ai, yanhan of china in the women's 4 x, 200m freestyle, relay final was described as 'that little 14 year old from china dropped the ball. Baby '.\",\n",
              " 'Criticism on twitter came thick and fast against byron macdonald with many calling him out.',\n",
              " 'Twitter users did not hold back when the heard how insensitive byron macdonlad was being.',\n",
              " \"Another twitter user, sarah paradis, wrote 'wow, #byronmacdonald.\",\n",
              " 'You represent the cbc and canada and make us all sound like a bunch of racists #disgusted.',\n",
              " \"Soon after scott russel, who was hosting cbc's broadcast apologized on air for macdonald's comment, saying, 'we apologize, the comment on a swim performance made it to air '.\",\n",
              " \"It was an unfortunate choice of words, we're, sorry. It happened. '.\",\n",
              " 'Cbc ended up apologizing more than 90 times to people who had tweeted in response to the remark.',\n",
              " \"Fellow commentator, scott russel had to make an apology on macdonald's behalf.\",\n",
              " \"Cbc then copied and pasted their apology to more than 90 other twitter users who complained about macdonald's comments,.\",\n",
              " 'The network was also quick to apologize and released a statement.',\n",
              " 'We sincerely regret that these statements were made and that they were allowed to go to air.',\n",
              " 'We moved quickly last night to apologize to our viewers on air and to our followers on social media,.',\n",
              " \"To be clear, byron's comments were related to the swimmer's performance, not to her as an individual.\",\n",
              " 'That said, they were inappropriate and an unfortunate choice of words and byron is very sorry for what he said.',\n",
              " \"On thursday afternoon, macdonald, apologized on air and attempted to qualify his remark by stating. He didn't mean for it to be construed as a personal attack.\",\n",
              " \"'I would like to take a moment to apologize for a comment that I made last night after the women's, relay ', he said on cbc's olympic broadcast '.\",\n",
              " \"'I was referring to a swimmer's performance and not to them as a person '.\",\n",
              " \"'needless to say, there was no disrespect intended and I'm, very sorry, '.\",\n",
              " 'Primark shopper outraged at woman who brazenly tried on underwear in the middle of the shop.',\n",
              " \"Shoppers, didn't know where to look when a woman stripped off to try on knickers on the shop floor in the middle of a primark.\",\n",
              " 'To make it even worse, she sized up how she looked in them, peeled them off and put them back on the shelf.',\n",
              " 'She carried on browsing and eventually tried on four pairs of underwear at the store in bouverie place, shopping centre, folkestone.',\n",
              " 'The primark store in bouverie place, shopping centre, folkestone where the woman tried on knickers before putting them back on the shelf.',\n",
              " \"A mother of two jenny davidson, who was in the shop at the time said after trying on the underwear, the mystery woman 'got dressed again and walked out of the store without buying anything '.\",\n",
              " \"She said, 'people, couldn't believe what they were seeing '.\",\n",
              " 'Standing in the middle of the shop floor, she took a pair of knickers from the display stripped off her own tights and pants and put them on.',\n",
              " \"'she didn't, try to find anywhere discreet to do it. She just stood there bold as brass '.\",\n",
              " \"'everyone was staring as she took the knickers off again and obviously didn't like them, because she put them back on the shelf, '.\",\n",
              " 'She did the same with three more pairs before finally, deciding there was nothing she liked and she got dressed again and walked out.',\n",
              " \"'she didn't seem to care who was watching or think about the person who would eventually buy the knickers. She'd been trying on '.\",\n",
              " \"Ms, davidson 33 who lives in the kent town, said, 'how disgusting to think someone is going to take home knickers that another person has been wearing. And they haven't been cleaned '.\",\n",
              " 'The incident happened on tuesday afternoon,.',\n",
              " \"Ms, davidson added. 'I gather the staff. Apparently tried to remove the garments from sale after she had left, which is just as well '.\",\n",
              " \"'I'd hate to get home with a new pair of knickers and find another woman had put them on and taken them off again. And they hadn't been washed '.\",\n",
              " \"A primark spokesman said, 'primark is aware of an incident which took place in our folkestone store on tuesday august 9 '.\",\n",
              " 'All the product in question has been removed from sale.',\n",
              " 'How to defend yourself from gun attacks using krav maga.',\n",
              " \"It's a dangerous world out there. But this video from dailymail com might help make it a little safer for you.\",\n",
              " 'We spoke to rhon mizrachi, new york based grandmaster of the krav maga federation to find out how to deal with gun, toting muggers at close range.',\n",
              " \"Whether you're approached from in front or behind this video will show you how to turn the tables on your mugger.\",\n",
              " \"If approached from behind mizrachi says, the first thing to do is turn around so that you can see your attacker and 'clear the line of fire'.\",\n",
              " 'You then grasp the gun between your forearm and shoulder before hitting them in the face with your free elbow,.',\n",
              " 'A knee to the groin follows, and while the attacker doubles up in pain, you twist, the gun from his hands, smack him in the face with the barrel and back up keeping the weapon trained on him.',\n",
              " \"For gunmen approaching from the front it's, a similar technique, get your body out of the line of fire, grab the gun and twist it around. So the villain can't fire.\",\n",
              " 'At the same time, put weight on the gun and punch the attacker in the chest, then twist the gun from his grip before backing up and pointing it at him.',\n",
              " 'Sounds tricky.',\n",
              " 'Check the video to see exactly how mizrachi does it.',\n",
              " \"But remember that the safest way out of any mugging, if you're not a krav maga grandmaster is to hand over your cash.\",\n",
              " \"Traveller ian wright scrapes, his tongue along europe's dirtiest, places for travel guide.\",\n",
              " 'A british traveller has put his immune system and gag reflex to a serious test by licking, some of the dirtiest and disgusting places in europe.',\n",
              " \"Presenter and travel writer, ian wright 51 from suffolk, scraped, his tongue along a euro note, a piccadilly circus hand, rail, a train, toilet's flush button and a russian public telephone to prove the strength of his immune system.\",\n",
              " 'Before licking each object, he used a luminometer to show himself and us just what he was getting in to.',\n",
              " \"But the experiment, which has be made into a film called the lickhiker's guide to inner strength, threw up some surprising results.\",\n",
              " \"The thought of licking, a train's flush button used by thousands of other may be utterly repellent. But in fact, there are more bad bacteria in a kitchen. Sink.\",\n",
              " 'All the way along his trip through europe, mr wright spoke to doctors and medical professionals about boosting gut bacteria and about his own health.',\n",
              " 'Fortunately, nothing, he licked left him with anything more than a bad taste in his mouth.',\n",
              " 'Mr wright became known for testing the durability of his gut by travelling around the world and eating weird and wonderful things.',\n",
              " 'From public handrails in train stations to a toilet flush button. The task definitely tested his immune system.',\n",
              " \"In the movie made about it. He said, 'ever, since I was a kid. I have been fairly carefree with my health. And I've put all sorts of things in my mouth from soil, eating worms and muddy water. '.\",\n",
              " 'He certainly proved his reputation during the film.',\n",
              " 'The only thing he turned down was a filthy russian public toilet.',\n",
              " 'His sample swab showed a luminometer count of over 4000 units.',\n",
              " 'By comparison, freshly washed hands should come in under 60.',\n",
              " 'But there was one russian public toilet. He refused to lick after his luminometer. Count was over 4000 units. When freshly washed hands are less than 60.',\n",
              " \"Mr wright and finnish dairy producer, valio have produced the traveller's film called the lickhiker's guide to inner strength, which shows the bacteria count in different place like in the bathroom.\",\n",
              " \"He said in the film 'that is close to one of the worst things I have smelled in a toilet '.\",\n",
              " \"There's, nothing more dirty than that.\",\n",
              " \"I'm not going to lick anything because it's disgusting in there.\",\n",
              " \"The lickhiker's guide to inner strength was produced in conjunction with finnish dairy producer, valio.\",\n",
              " \"The company provided mr wright with valio gefilus, which contain lactic acid bacteria as well as vitamins, c and d to help boost people's gut, bacteria and immune systems.\",\n",
              " \"Valio's senior vice president of snacks juice and new categories. Niko vuorenmaa said, 'we really wanted to offer consumers something new.\",\n",
              " 'Something that would be fascinating to watch. And at the same time, explain the benefits of probiotics.',\n",
              " 'We did a lot of crazy brainstorming that ended in the idea \"let\\'s call ian \".',\n",
              " 'They claim the interest in gut health is becoming a global phenomenon.',\n",
              " \"Instead of just talking about the products we wanted to put them into a bigger context, the good and bad bacteria in our everyday environment, the importance of gut health, and how it's linked to the immune system.\",\n",
              " 'Growing interest in gut health is a global phenomenon. And with the documentary, we could provide consumers with more information about it in an interesting way.',\n",
              " 'I also think the film shows we have a great sense of humour.',\n",
              " \"Tom hakala who directed the film, added 'let's, put it this way I would have lost my respect for ian. If he had licked, some of the things I asked him to like the disgusting, russian toilet, that's, shown in the film '.\",\n",
              " 'Naturally, some things were easier to get ian to lick some were pretty tough.',\n",
              " \"I'm glad we got some of those dirty licks caught on tape, '.\",\n",
              " 'In a survey conducted in 2015 by valio, 84 per cent of the respondents associated lactic acid bacteria, specifically with the well being of the stomach and gut and 58 per cent said, they use at least occasionally products containing added lactic acid. Bacteria.',\n",
              " 'Family of yobs, destroyed saltash, cornwall council, house ahead of eviction.',\n",
              " 'A family of yobs left their council house with £50 000 worth of damage after they were evicted for terrorising, their neighbours.',\n",
              " 'Tanya skeldon and her partner, shaun trebilcock have been kicked out of the property in saltash cornwall after a long list of complaints against them.',\n",
              " 'After they were forcibly removed from the property shocked housing associations officers found the property in a state of disrepair.',\n",
              " 'The walls were left with gaping holes. Floorboards were ripped up rubbish was strewn over the floor and graffiti was daubed on the walls.',\n",
              " 'The family have now been moved on and are believed to be living in a private accomodation.',\n",
              " 'Donna mcevoy housing manager at cornwall housing said, she feared it might be beyond saving.',\n",
              " \"She said, 'it's been an absolute nightmare for people down here. And I don't think people should have to live like that.\",\n",
              " 'There are a lot of things to weigh up, because this property will probably be known by the not so nice element of cornwall.',\n",
              " 'This family are notorious and their name is notorious.',\n",
              " 'The couple had three sons who lived at the property intermittently and police say, the reign of terror, the family inflicted included fighting in the street with baseball, bats, intimidating, nearby residents drug use drug dealing and excessive shouting arguing and swearing.',\n",
              " 'Skeldon 47 whose name was on the tenancy was given an antisocial behaviour order in june.',\n",
              " 'Old rubbish was found in a number of the rooms of the house, which may be demolished.',\n",
              " 'Floor boards had been pulled up in the property from which drugs had been dealt in the past.',\n",
              " 'Neighbours say, they were seen fighting in the street and police were regularly called.',\n",
              " 'Cornwall housing evicted her and her partner forcefully from the property this week after giving them an extended period of 11 weeks to move on voluntarily.',\n",
              " 'The eviction was hailed by relieved neighbours who said, their lives had been made a living hell.',\n",
              " \"One said, 'they, didn't care about anybody '.\",\n",
              " \"We lived next to them for 20 years and it's always been bad.\",\n",
              " \"The amount of times we've seen the police down here is unbelievable.\",\n",
              " \"'this morning, we couldn't sleep '.\",\n",
              " \"We got up because it was so quiet here, we're, not used to that.\",\n",
              " \"It's going to be lovely now that they're finally gone.\",\n",
              " \"Adam fitzpatrick, cornwall, housing's, neighbourhood enforcement manager said, the family failed to cooperate with the local authority.\",\n",
              " 'The family have lived in the house for 20 years with police regularly called to the property.',\n",
              " 'Rubbish and old toys have been thrown down the overgrown side of the council house.',\n",
              " \"He added 'it is a shame that the tenant failed to accept any responsibility for the behaviour of her and her family as eviction is always the last course of action that cornwall housing considers.\",\n",
              " 'This was a very difficult case as the behaviour was extreme and their actions must have been terrifying for her neighbours to witness.',\n",
              " 'I appreciate all the work that has been put in by my team, devon and cornwall police and members of the community who bravely came forward to give us information.',\n",
              " 'I hope that this development will give some comfort to the neighbours and sends out a message that antisocial behaviour will not be tolerated.',\n",
              " 'Mr fitzpatrick said that the three sons had all lived at the property at different times, but said, they were all in their 20s.',\n",
              " 'A dirty mattress left on the floor of one of the bedrooms in the house after the eviction.',\n",
              " 'Housing workers will now have to clear away the piles of rubbish, which surround the house.',\n",
              " 'In 2014, police raided, the property and found more than 70g in cannabis as well as scales paraphernalia and £1, 700 in cash.',\n",
              " 'Skeldon was fined after pleading guilty to possession of a class b, drug with intent to supply.',\n",
              " 'She claimed the money was going towards a headstone for her son, lee skeldon who died in a car crash in 2013.',\n",
              " 'After being made homeless, it is understood that tanya and her partner are now living in private housing in plymouth.',\n",
              " \"The walls of many of the house's rooms had graffiti scrawled across them.\",\n",
              " 'Police say, they will seek to evict tenants who flout the rules of their tenancies.',\n",
              " 'Angela crow of devon and cornwall. Police said, the eviction sent a clear warning to other tenants who continue to flout the rules.',\n",
              " \"'this sends out to those who feel that they can behave without recrimination as well as those blighted by such behaviour '. She said,.\",\n",
              " 'Criminal and antisocial behaviour will never be tolerated by devon and cornwall police, who will continue to work with partners to protect our communities.',\n",
              " 'Tourists in portugal are left terrified as a low flying military jet flies skims beach.',\n",
              " 'Tourists sun, worshipping in aveiro portugal had the shock of their lives.',\n",
              " 'A portuguese air force p, 3c, orion plane, swooped in incredibly low.',\n",
              " 'The air force said, it was on a training flight, but insisted, no risk to safety.',\n",
              " 'This is the moment, terrified tourists start to panic as a low flying jet swooped down over a packed beach.',\n",
              " 'Dramatic footage showed the military plane almost coming within touching distance of sunseekers on the stretch of sand in aveiro, northern portugal,.',\n",
              " 'Holidaymakers rose to their feet as they became understandably concerned about the noise from the jet engines without being able to see at first, what was coming their way through the clouds.',\n",
              " 'The incident happened in costa nova near aveiro yesterday, afternoon.',\n",
              " \"Daniel fernandes, one of several holidaymakers who posted videos of the dramatic fly by onto social media said, 'it passed really low twice. And there was a point when it looked like, it was going to crash '.\",\n",
              " \"Nuno arroja, added 'I was surfing and swear, it felt like the plane was going to fall on top of me, '.\",\n",
              " 'Tourists on the beach at aveiro were terrified. When the plane appeared out of the murk and flew at an incredibly low altitude.',\n",
              " 'The portuguese air force said today, the pilot of the p 3c orion plane was on a training flight to identify fishing boats off the coast and had to drop so low, because it was the only way of checking them.',\n",
              " \"He said, the jet had flown slightly lower than normal because of poor visibility caused by the smoke from nearby wildfires. But the air force insisted, no one's safety had been compromised.\",\n",
              " 'Wildfires have devastated parts of mainland portugal, this summer as well as killing four people on the island of madeira.',\n",
              " 'The portuguese air force said today, the pilot had to fly low because of the conditions, thick fog and smoke from wildfires, which obscured his visibility.',\n",
              " 'The plane was on a training flight. And the pilot was being asked to identify fishing boats as part of the exercise.',\n",
              " 'London schoolgirl who joined isil killed in syria.',\n",
              " 'Kadiza sultana, one of three british schoolgirls who left london last year to join isil has reportedly died in syria.',\n",
              " 'Attorney tasnime, akunjee said, her family learned of her death in raqqa syria. A few weeks ago.',\n",
              " \"She was believed to have been killed by a russian air strike in raqqa, the group's stronghold in the country. Itv news reported on thursday.\",\n",
              " 'Sultana was 17 years old. And according to her family died, just as she was making plans to flee, the war torn country and return to britain.',\n",
              " '\"One would hope that the only benefit out of this is as a tombstone and testament to others that these are the risks actually involved in going to a war zone to dissuade people from ever making that choice really \" akunjee said,.',\n",
              " 'In february 2015, sultana and two other schoolgirls from east london, boarded a flight to turkey, and then a bus to the syrian border.',\n",
              " \"Sultana's family was told she married an isil fighter in syria and became a widow within months.\",\n",
              " 'Reid says, clinton will stick with garland as supreme court nominee. If elected.',\n",
              " 'Senate, democratic leader harry reid says, he is convinced that democratic presidential candidate hillary clinton will nominate judge merrick garland to the supreme court. If she is elected president.',\n",
              " \"Senate, republicans have blocked garland's confirmation since president. Barack obama nominated him in march.\",\n",
              " 'Senate, majority leader mitch mcconnell says, the next president will choose the person to replace late supreme court. Justice, antonin scalia.',\n",
              " 'Reid said, on a conference call thursday that he is predicting clinton will pick garland \"with. Some degree of credibility \".',\n",
              " 'A spokeswoman for reid later, said, he had not spoken to clinton directly about whether she would nominate garland and was speculating.',\n",
              " 'He praised garland and said, clinton\\'s team would not want to \"rock the boat\" with a new pick.',\n",
              " 'Garland is the chief judge for the u. S, court of appeals for the district of columbia circuit.',\n",
              " 'Reid said, republicans who are blocking garland\\'s nomination are \"minions\" and \"enablers\" of republican presidential candidate donald trump.',\n",
              " 'He said, trump is unfit for office.',\n",
              " \"Treats says, nude calendar for 'women as well as men'.\",\n",
              " \"Treats magazine is partnering with photographer david bellemere to launch a 1970s' pirelli inspired calendar for 2017.\",\n",
              " \"But instead of famous naked people, they're setting out to find the next generation of top models for their 2017 nu muses calendar.\",\n",
              " 'Treats president steve shaw told us earlier this year that his nude heavy magazine, differs from old school playboys because \"playboy is for men \".',\n",
              " 'I do this for women.',\n",
              " 'Apparently he thinks the calendar is too.',\n",
              " '\"We need to get back to showcasing timeless and classic nudity where women as well as men feel comfortable and inspired by these images of the female body. \" shaw said in a press release announcing the calendar.',\n",
              " \"Women will want to be a part of this project because it's a beautiful piece of art.\",\n",
              " 'Models can submit pics online or in person at open casting calls in los angeles and new york.',\n",
              " 'Vinyl destination who is actually buying records.',\n",
              " 'Lonely middle aged men love vinyl.',\n",
              " 'Before you rush to litter, the comments section with gnarly insults under the pseudonym notalllonelymiddleagedmen. This statement derives from actual data.',\n",
              " 'According to yougov, the much talked about record, resurgence is driven not by a boom in millennials who want to embrace the novelty of a physical item. But by midlife nostalgia.',\n",
              " 'Those who have recently purchased a vinyl album are most likely to be aged between 45 and 54, apparently.',\n",
              " 'In fact, those in the 18 24 age group are the least likely.',\n",
              " 'It is not just an act of hoarding by hobbyists either. It has emotional significance. Older vinyl buyers are slightly more likely to keep their feelings to themselves, (56% versus 53%) and enjoy being alone. (69% versus 66%).',\n",
              " \"But are yougov's results true.\",\n",
              " 'If this blog was a televised news report, the camera would follow me as I walked down the middle of a busy soho street wearing a modest grey suit and gesturing wildly before stopping cupping my hands and saying something authoritative like \"so, let\\'s, take a look \".',\n",
              " \"So let's, take a look.\",\n",
              " 'While the heart of soho is slowly being drained of its charm and grot hotels eats prets and paperchases now fill the buildings once occupied by independent sellers a handful of fantastic specialist record shops, still remain.',\n",
              " \"I'd probably ask the camera to stop rolling for the next bit in which I stand very close to various men in some of these stores and attempt to gauge their age and emotional disposition via observation,.\",\n",
              " 'Glaswegian stuart 55 whom I follow from sister. Ray (data. Count two young women, three middle aged men) into reckless records (data count eight middle aged men. One woman, probably in her 20s) is in london for the afternoon for a meeting and is perusing the shops to fill a few hours.',\n",
              " 'Is he a collector I ask.',\n",
              " '\"I suppose, I am \", he says,.',\n",
              " 'I have about 3 000 or 4 000 records.',\n",
              " \"These records pictured above (he, emailed me the snap. I didn't follow him. Home) line his living room walls.\",\n",
              " \"His reason for acquiring such a vast number of albums and singles is partly a result of his disposable income. He is now able to buy records he couldn't afford when they originally came out. And to repurchase items, he sold when he was young and skint.\",\n",
              " '\"A lot of the stuff I get is late 60s, early 70s things that came out when I was 11 or 12 things. I was probably a bit too young to get \". He says,.',\n",
              " 'He agrees that those who purchase records are more likely to be introverts who like their own company, adding \"I don\\'t smoke. I don\\'t drink very much.',\n",
              " \"It's, my vice.\",\n",
              " 'Wez 25 who works at sister, ray also believes that many of the customers he encounters fit the yougov profile.',\n",
              " 'He has, however noticed a new wave of people influenced by the media hype people who heard about the comeback and felt compelled to buy back their old records.',\n",
              " \"From conversations I've had people have got rid of their collection normally around 1998, or 1999,.\",\n",
              " 'Customers who once sold their vinyl to buy cds are now selling their cds to buy their records back \". He says.',\n",
              " 'That may explain a boom in vinyl revivalists of a certain age.',\n",
              " 'But what about the alleged emotional importance of records.',\n",
              " 'It takes a few seconds in a shop, such as phonica to realise that record stores offer a comforting community of likeminded types.',\n",
              " 'According to wez, some older customers have taken umbrage with the contactless payment system in particular.',\n",
              " 'Some vinyl fans may feel overwhelmed by the digital world and choose to retreat to the stability of the familiar record, sleeve of items that recall halcyon teenage memories.',\n",
              " '\"I think, sometimes it can be filling a void or having material possessions as some kind of comfort, \", wez says,.',\n",
              " 'As a collector myself, I have that, and I think a lot of people do.',\n",
              " \"It's an easy way to occupy your headspace.\",\n",
              " '\"We\\'re like their social workers, \" pipes up a co worker from a stack of records.',\n",
              " 'An icm poll in april revealed that almost 50% of people who bought a vinyl album, the previous month had yet to listen to it.',\n",
              " \"The poll also found that 41% have a turntable. They never use while 7% of those who purchase vinyl don't own a record player.\",\n",
              " 'At this stage of the news report, I would probably be looking gravely concerned while flicking through a stack of bossa nova compilations.',\n",
              " 'The \"trophy\" aspect of the revival is something that jonny 42 who works in sounds of the universe. (Data count three midde aged men) has noticed.',\n",
              " '\"Someone came in recently and said, \"I don\\'t have a record player, but I want to buy a radiohead record. So we can put it on our shelf. \"\". He says,.',\n",
              " \"That's, not a large percentage, but it's definitely happening.\",\n",
              " 'More of the product side, less of the music.',\n",
              " 'We have people saying, \"I, don\\'t have a record player. \".',\n",
              " \"That's younger people, not older ones late teens who are just getting into it.\",\n",
              " 'Fopp which now dedicates almost an entire floor to vinyl has a far more varied audience. When I arrive.',\n",
              " 'There are couples in their 70s tourists taking photos teenage boys and middle aged women.',\n",
              " \"While the atmosphere is less at ease than the aforementioned stores, wild beast's latest synth and sex fuelled pop rather than noodling. Jazz is blasting from the speakers. It is good to see diversity in its customers.\",\n",
              " 'None of them look, particularly lonely, but nagging psychological trauma is hard to ascertain by standing next to someone for 30 seconds.',\n",
              " 'Elanora 27 has been walking around fopp for a few minutes, looking at the variety of records on sale.',\n",
              " 'She is window shopping rather than on a spending spree.',\n",
              " \"She doesn't earn a lot. She says so collecting records isn't, really an option.\",\n",
              " 'It costs a lot.',\n",
              " 'It\\'s easy to listen to music by a computer or another way. But the beauty of vinyl is \". She drifts off into a lovestruck sigh.',\n",
              " \"I don't know how to explain it's really unique.\",\n",
              " 'My last stop is a shop said to have inspired a fresh generation of vinyl lovers urban outfitters.',\n",
              " 'While giving the illusion of perusing, the denim hot pants, I observe a group of teenage girls who cluster around the polaroid cameras, momentarily before a dad and his daughter. Deliberate, purchasing a crosley record player.',\n",
              " 'To the left is a stairwell, a wall of which is stacked with records by adele, jeff buckley, amy winehouse and fleetwood mac a mix of contemporary and classics the essential records for any average collection.',\n",
              " 'Nobody is looking perhaps because they are merely decoration, some so high up the wall that it would be impossible to touch them.',\n",
              " 'It is pure \"art, vinyl \".',\n",
              " 'But given that any attraction to these items could mean more money for the industry and send a few customers into the depths of soho for more. There is little to complain about.',\n",
              " 'It is no surprise that a demographic more likely than most to have more time and money than most is also the one that spends the most on luxury items, such as vinyl.',\n",
              " \"But while my findings suggest yougov's results are accurate in soho record stores, at least they do not discount the huge number of female collectors and vinyl lovers that exist in reality in record shops and on online forums,.\",\n",
              " 'These people are probably working hard at school or in offices.',\n",
              " 'They are certainly not spending their thursday mornings loitering around the record shops of berwick street, flicking through records and avoiding the gaze of a creepy, 30 year old, fake television presenter who is looming over the shoulders of unsuspecting middle aged men.',\n",
              " 'Greenland, shark is longest living vertebrate animal video report.',\n",
              " 'Scientists say, the greenland, shark has the longest lifespan of any vertebrate on the planet.',\n",
              " 'Julius nielsen who has been studying the sharks says record goes to a female thought to be between 272 and 512 years old and is five metres in length.',\n",
              " 'French court rejects bid to demolish shops at jungle. Refugee camp.',\n",
              " 'A french court has rejected a bid by calais authorities to demolish dozens of makeshift shops and restaurants in the jungle camp, where thousands of refugees are living.',\n",
              " 'At a court hearing this week, calais authorities had argued. The state should be able to knock down a total of 72 makeshift shops, where people inside the camp sell goods from cigarettes to energy drinks, offer haircuts or sell tea for 50 cents (40p) or basic meals for a few euros in makeshift restaurants.',\n",
              " \"The calais prefect's office argued, the places should be demolished, because they represented a parallel economy that did not pay tax, and because they carried fire and sanitation risks.\",\n",
              " 'Humanitarian groups had told the court the shops and restaurants were vital saying, the free meals offered by a state backed association. And other groups did not provide enough food for the growing numbers at the camp.',\n",
              " 'They argued the makeshift shops and restaurants often provided shelter and free meals to those in need.',\n",
              " 'A lille court ruled. There was no legal basis for expelling. The people running the 72 makeshift shops, but said, the calais prefect\\'s concerns \"were, totally understandable. \".',\n",
              " 'The judge jean françois molla said, the groceries cafes and restaurants played a much bigger role than simply feeding people that \"live in extremely precarious conditions. \".',\n",
              " 'He said, the spaces provided calm meeting points between refugees and volunteers.',\n",
              " 'One of the places that had been under threat from demolition was the camp\\'s jungle book, kids\" cafe, which is run not for profit and provides 200 meals a day english and french classes and asylum advice for the hundreds of vulnerable, unaccompanied minors in the camp.',\n",
              " 'More than 170 000. People have signed a petition to protect the kids\" cafe.',\n",
              " 'A letter sent to the guardian said, its closure, \"would be a catastrophe for these children. Some of whom are as young as eight \".',\n",
              " \"Two charities help refugees and l'auberge des migrants on friday, estimated that numbers in the jungle camp have risen to over 9 000 people, the highest ever after a steep increase in arrivals during the summer.\",\n",
              " 'Britain settle for silver in rugby sevens after fiji, masterclass sees them. Take gold.',\n",
              " \"Great britain's. Impressive run in the rugby 7s was brought to a crashing halt at the final hurdle by fiji in the final on thursday night when they were comprehensively beaten, 43 7 at the deodoro stadium here in rio,.\",\n",
              " 'Fiji gave a masterclass in handling off loading side, stepping support play running lines and brute strength to win gold, their first olympic medal of any colour.',\n",
              " \"Defeat came with the non too shabby consolation of silver britain's third of the day, and they could be proud of their efforts in the inaugural olympic 7s tournament in which they beat new zealand, argentina and south africa along the way.\",\n",
              " 'The bruising beating of the boks 7 5 in the semi final earlier in the day may have come back to bite them in the final.',\n",
              " 'But regardless fiji on this form would have beaten a fit as a fiddle 15 man team.',\n",
              " \"It may be some consolation to gb, but probably not that at least one briton will have a gold medal around his neck tomorrow fiji's head coach is ben ryan. The former england boss from wimbledon.\",\n",
              " 'It has been some journey for gb,.',\n",
              " 'Eight years ago under ryan, they lost every game at the adelaide sevens.',\n",
              " 'Here they lost just one.',\n",
              " 'This hammering will hurt, but the progress is startling.',\n",
              " 'Fiji started magnificently bouncing off. Gb, tackles for fun.',\n",
              " 'It was like running into a series of moving buses for captain, tom mitchell and co and the world series champions. Went 5 0 up when osea kolinisau dived over in the corner.',\n",
              " 'With four minutes on the clock, jerry tuwai, added another down the right wing, which was converted.',\n",
              " '12 0 and gb had hardly touched the ball.',\n",
              " 'A superb mitchell tackle stopped the man mountain leone, nakarawa from scoring a third, but it was only delaying fiji.',\n",
              " 'On seven minutes, jasa veremalua touched down in the right corner. And gb, were 17 0 to the bad.',\n",
              " 'Nakarawa added another from the restart. And there was still over a minute on the clock in the first half.',\n",
              " 'Vatemo ravouvou then burst through some more limp. Gb, tackling and stormed to the line to score.',\n",
              " 'The conversion made it 29 0 at the break.',\n",
              " 'It was as if fiji had been born to play 7s while gb, are still learning the trade.',\n",
              " 'Which is pretty much how it is.',\n",
              " 'Gb, made wholesale changes at half time, and they plugged the fijian dam for all of four minutes, which by first half standards was good until josua tuisova went over after some brilliant fijian interplay.',\n",
              " 'Dan norton grabbed a try for gb, touching down in the left corner to make it 36 7. But the game was long gone the way of the south sea islanders whose fans sang waved flags and danced in the stands.',\n",
              " \"It was hard not to admire fiji's whole joyful approach.\",\n",
              " \"Mata viliame iced, the fijian cake that didn't need icing with another try in the dying moments.\",\n",
              " 'The whistle went the fijians embraced and gb hit the turf thoroughly beaten.',\n",
              " \"Earlier in the day, fiji had beaten, japan, 20 5 in their semi final. And gb, edged south africa in a tight semi final of one, try each britain's conversion. The difference.\",\n",
              " 'Kyle brown put the boks ahead in the first half, but dan norton with some dazzling footwork broke the line and scored under the posts in the second half.',\n",
              " \"A brilliant late tackle from marcus watson brother of england's, 15 aside team. Anthony secured the win and ultimately, the silver medal.\",\n",
              " \"Helen glover and heather, stanning inspired to rowing victory by coach's cancer battle.\",\n",
              " 'There will not be a more emotive gold at these games. And that is saying something.',\n",
              " 'From the first stroke to the last 220 punishing heaves into history, helen glover and heather, stanning found added meaning in their golden moment at the estacio da lagoa.',\n",
              " \"Though they were the two pulling on the oars, there were three voices in that boat, the echo of coach robin williams ever present as they powered to a second successive olympic gold in the women's pairs. The first females in the annals of british sport to scale, such a height.\",\n",
              " 'Their dominance was absolute after all. This was their 39th outing unbeaten again, unprecedented.',\n",
              " 'What we see two brilliant athletes, skating over the surface with the elegance of swans does not wholly reflect the nature of the triumph.',\n",
              " 'Behind every rowing gold is a battalion of willing hands, contributing the incremental gains that make the difference and no hands were more instrumental than those of a coach who 30 months ago did not know whether he would live to see this day when diagnosed with cancer.',\n",
              " 'As he said, it was touch and go.',\n",
              " 'I had bladder cancer, which is one of the things they can operate on. And they did.',\n",
              " \"If they don't, it goes everywhere.\",\n",
              " 'It would have been a pretty bad situation.',\n",
              " 'It alters your outlook a bit.',\n",
              " 'Williams was diagnosed in december 2013.',\n",
              " 'The trio were fortunate that he was able to begin his treatment at the start of 2014 out of season, keeping the disruption to a minimum if that is ever the right expression in circumstances, such as these.',\n",
              " 'I needed to get paid. So I had to get better quickly.',\n",
              " 'It was an incentive.',\n",
              " 'I was in hospital, and I was walking around the ward, 20ft 30ft 50ft at a time when they were saying a few steps is enough.',\n",
              " \"That's how it starts off.\",\n",
              " 'Rowing in itself is a journey, but that makes it a bit bigger.',\n",
              " 'In the immediacy of victory, their first thoughts were for williams who had spent a nervy morning talking a little more than usual in an attempt to process, his own anxieties.',\n",
              " 'Stanning a captain in the royal artillery regiment with a tour of afghanistan behind her said, \"I\\'ve been an emotional wreck this week, maybe that\\'s a bit extreme. But it means such a lot \".',\n",
              " 'It just reiterates how much this means to me how much me and helen have worked and robin as well,.',\n",
              " \"It's been a fantastic three years back with helen and robin.\",\n",
              " \"Without robin, we would be nobody so a massive thanks to him, he's the best coach in the world.\",\n",
              " \"I couldn't have asked for a better person to train with or a better coach.\",\n",
              " \"Helen glover and heather, stanning, haven't lost a race in five years.\",\n",
              " 'The pair set a punishing rhythm that their rivals could never match.',\n",
              " 'Even in the final 500 metres when the crews from new zealand and denmark began to close stanning and glover had too much in reserve.',\n",
              " 'We were very much in the moment.',\n",
              " \"Helen was calling 'stay in the process, stay in the process'.\",\n",
              " \"It's really important, not to get carried away.\",\n",
              " \"We had a good start. And at the same time, we weren't looking to do anything amazing.\",\n",
              " \"We weren't looking for fireworks today, we were just looking to do a good row and to go out and win that race, which we did.\",\n",
              " 'The pair will take a year before deciding their futures.',\n",
              " 'Glover has a wedding to attend next month, her own to television adventurer. Steve backshall.',\n",
              " 'For now she just wants to enjoy the moment.',\n",
              " \"I didn't want to say, this was my last race.\",\n",
              " 'That would have meant too much pressure.',\n",
              " 'In london, it took about six months to realise that I was an olympic champion.',\n",
              " 'It was all so new, and I was so stressed.',\n",
              " 'Here, it took about four minutes.',\n",
              " 'This feels so much better \". She said,.',\n",
              " 'A front row seat to the stunning architecture of the los angeles, central library.',\n",
              " 'Learn more about the history of downtown\\'s central library as the society of architectural historians/southern, california, chapter hosts, a salon with arnold schwartzman and stephen gee, authors of the new book, \"los angeles, central library, a history of its art and architecture\".',\n",
              " 'Gee and schwartzman are scheduled to discuss and share images of the 1926 bertram goodhue design as well as the 1993 restoration. And addition by hardy, holzman pfeiffer, associates.',\n",
              " 'The salon is set for 2 p, m to 4 p, m on aug 21 in the salle moderne at the art deco southwestern school of law, (formerly, bullocks, wilshire), 3050, wilshire, blvd.',\n",
              " 'Attendees can tour the central hall period rooms, cactus lounge and tea room.',\n",
              " 'Advance tickets are required sah/scc members, $15 non members, $25.',\n",
              " 'An open industrial loft in dtla gets a cozy makeover.',\n",
              " \"Celebrating l, a 's central library's 90th birthday with what else a new book.\",\n",
              " 'Bulgaria posts, inflation for 1st time in 8 months,.',\n",
              " 'Inflation in bulgaria was 1% on a monthly basis in july national statistics, show.',\n",
              " 'This is the highest value in years, (since, june 2012). And the first one above zero since october of last year, when a positive 0 2% was posted.',\n",
              " 'The annual average inflation measured by cpi in the last 12 months, (august 2015, july 2016), compared to the previous 12 months. (August, 2014, july 2015) was 0 8%.',\n",
              " 'The consumer price index in july 2016, compared to june 2016 was 101 0%. I e, the monthly inflation was 1 0%.',\n",
              " 'The inflation rate since the beginning of the year (july 2016, compared to december 2015) has been 0 2% and the annual inflation in july 2016, compared to july 2015, was 0 2%.',\n",
              " 'In july 2016, compared to the previous month, an increase was observed in the price of the following groups of consumer goods, food and non alcoholic beverages, (1 7%) transport, (1 8%), recreation and culture, (6 3%) restaurants and hotels (1 2%) miscellaneous goods and services (0 3%).',\n",
              " 'Prices decreased in clothing and footwear (2, 2%), furnishings household equipment and routine maintenance, (0 5%), health, (0, 1%),.',\n",
              " 'Prices remained at the same level as in the previous month in alcoholic beverages and tobacco housing water, electricity, gas and other fuels, communications and education.',\n",
              " 'Snapchat, \"anime\" effect is criticized as asian caricature.',\n",
              " \"Snapchat says, this filter is inspired by anime, but some observers say, it's, racially insensitive.\",\n",
              " 'With its lens tool snapchat allows some 150 million daily users to alter reality and play with identity in ways that border on the absurd.',\n",
              " 'You can turn yourself into a pineapple a dog or a character befitting, a roy lichtenstein painting.',\n",
              " 'The lenses are blunt feature, warping tools that generate more than 30 million enhanced selfies a day.',\n",
              " 'Any missteps quickly enter the public record.',\n",
              " 'Snapchat lenses have drawn criticism in the past with accusations that the app was promoting blackface or encouraging whitened skin, tones as an ideal of beauty.',\n",
              " 'So when it pushed a lens to some users this week that gave them slanted eyes, distorted teeth and puffy cheeks. Some critics called it a racist caricature of asian people, \"yellowface \".',\n",
              " 'And they wondered if these repeated controversies pointed to a larger problem that the company has with diversity.',\n",
              " 'The news and the outrage went wide on wednesday with reports by the verge and motherboard a day after snapchat said, it had dismantled the feature.',\n",
              " 'The company offered an explanation, the lens was meant as homage to anime characters, not as a caricature of asian people.',\n",
              " 'But for observers who have experienced racism, the lens reminded them of hurtful stereotypes in action.',\n",
              " 'Others, roundly rejected the anime comparison.',\n",
              " 'In an email, grace sparapani, a korean american art student whose tweet about the photos was widely shared said that the lens was \"hurtful and uncomfortable to say, the least \".',\n",
              " 'She added that \"it\\'s hard to argue with the side by side, comparison of the very gross asian caricature. And the filter\\'s effects.',\n",
              " \"It shows that the filter isn't just yellowface, but yellowface taken to its derogatory extreme.\",\n",
              " 'Snapchat is not the only company to cross these cultural tripwires.',\n",
              " 'American culture seems involved in an endless struggle over diversity and inclusion from corporate boardrooms to hollywood and the devices we all carry in our hands.',\n",
              " \"And snapchat's huge audience of younger people, who are more racially diverse than their older counterparts might mean that they are even more likely to expect sensitivity.\",\n",
              " 'When one of snapchat\\'s lenses creates an image that is insulting to a user 25 year old, katie zhu said in an interview on thursday, \"it\\'s much harder for these types of things to go unnoticed like they did before \".',\n",
              " 'On thursday, ms, zhu a product manager and engineer who works for medium decided to delete her snapchat account and encouraged others to do the same.',\n",
              " 'In an essay for medium. And in a telephone interview, she said, she believed that the race related controversies reflected a lack of diversity in hiring practices at snapchat.',\n",
              " \"Ms, zhu criticized, the company's, mostly white all male leadership and ended her essay with a hashtag #deletesnapchat.\",\n",
              " '\"It\\'s either that they had no diverse representation of people of color on their staff to the point where they\\'re able to make decisions like this \". Ms, zhu, who is chinese american said, \"or, they do have some people of color who are working there, but they\\'re, not on positions where they feel safe or comfortable to speak up \".',\n",
              " 'Other observers share her view, a complaint that snapchat has left largely unanswered.',\n",
              " 'The company does not release figures about diversity on its staff, noting its status as a private company.',\n",
              " 'On thursday, snapchat declined to discuss the racial backgrounds of its staff. But according to a spokesman, the company recently hired a recruiter to focus on underrepresented populations and on driving inclusion efforts, internally.',\n",
              " 'For her part. Ms, zhu said, she would keep her snapchat account closed. Adding \"I wonder if they actually need more users like us to be able to say that this is not o. K. \".',\n",
              " 'Military officials, distorted isis intelligence, congressional panel says.',\n",
              " 'Officials from the united states, central command, altered intelligence reports to portray a more optimistic picture of the war against the islamic state in iraq and syria than events on the ground, warranted a congressional panel said in a report, issued thursday.',\n",
              " 'The interim report from a task force established by the republican chairmen of the house, armed services committee intelligence committee and defense appropriations subcommittee found \"widespread dissatisfaction\" among central command, intelligence analysts who said, superiors were doctoring their assessments of american efforts to defeat the islamic state.',\n",
              " 'Central command known as centcom is the military headquarters in tampa, fla that oversees american military operations across the middle east and central asia.',\n",
              " '\"Intelligence products approved by senior centcom leaders typically provided a more positive depiction of u. S, antiterrorism efforts than was warranted by facts on the ground and were consistently more positive than analysis produced by other elements of the intelligence, community \", a news release about the report said.',\n",
              " '\"What happened at centcom is unacceptable. Our war fighters suffer when bad analysis is presented to senior policy. Makers, \" said, representative, ken, calvert republican of california.',\n",
              " 'The leadership failures at centcom reach to the very top of the organization.',\n",
              " \"The 10 page report detailed persistent problems in 2014 and 2015 in central command's description and analysis of american efforts to train iraqi forces.\",\n",
              " 'Although it offers no definitive evidence that senior obama administration officials, ordered the reports to be doctored. It describes analysts as feeling as though they were under pressure from centcom leaders to present a more optimistic view of the threat posed by the islamic state also known as isis or isil.',\n",
              " '\"Throughout the first half of 2015, many central command press releases statements and congressional testimonies were significantly more positive than actual events \". The report said.',\n",
              " 'For example, a centcom official stated publicly that a major military assault to take back mosul could begin as early as april or may 2015.',\n",
              " \"Mosul iraq's. Second largest city remains under the control of the islamic state.\",\n",
              " '\"After months of investigation, this much is very clear \" representative. Mike pompeo republican of kansas said in a statement.',\n",
              " \"From the middle of 2014 to the middle of 2015, the united states central command's. Most senior intelligence leaders manipulated, the command's intelligence products to downplay the threat from isis in iraq.\",\n",
              " 'Republicans created the task force after learning that analysts had raised concerns that intelligence about the islamic state was being manipulated.',\n",
              " 'The report released thursday is to be followed up by more extensive findings as the investigation continues.',\n",
              " 'There is an additional ongoing investigation of centcom intelligence by the department of defense, inspector general.',\n",
              " 'Democratic members of the house intelligence committee released their own findings on thursday that agreed with some of the conclusions of the republican task force.',\n",
              " '\"Between 2014 and 2015 centcom created an overly insular process for producing intelligence assessments on isil and iraqi security forces \" representative. Adam b, schiff. The committee\\'s top democrat said in a statement.',\n",
              " 'This process, mr schiff said, \"stalled the release of intelligence products. \" hurt morale among analysts and \"insufficiently accommodated, dissenting views, \".',\n",
              " 'But mr schiff. And the democrats said, they found no evidence that the white house tried to pressure centcom analysts to fit their conclusions to a \"preset or political narrative, \".',\n",
              " 'The preliminary results of the congressional investigation were reported tuesday by the daily beast.',\n",
              " 'Last august, the new york times reported the existence of the pentagon, inspector general investigation opened after complaints by centcom analysts.',\n",
              " \"Lt cmdr, patrick evans, a pentagon, spokesman said in a statement that the defense department would not comment on the congressional report while the inspector general's investigation continued.\",\n",
              " 'But he said that \"experts sometimes disagree on the interpretation of complex data and the intelligence community and department of defense. Welcome healthy dialogue on these vital. National security topics, \".',\n",
              " 'The investigation has repercussions beyond the question of whether the american led bombing campaign in iraq and syria is succeeding. (An assertion now made by a growing number of defense officials).',\n",
              " \"But last year's allegations called into question, how much president obama could rely on central command for honest, assessments of military operations in iraq, afghanistan, libya and other crisis spots.\",\n",
              " 'The critiques on the islamic state intelligence, mirror disputes of more than a decade ago when a centcom intelligence analyst, gregory hooker wrote a research paper saying that the administration of president george w. Bush over many analysts\" objections advocated, a small force in iraq and spent little time thinking about what would follow the 2003 invasion.',\n",
              " 'Mr hooker also played a key part in the insurrection over the islamic state intelligence.',\n",
              " \"Last year officials said, mr, hooker's team concluded that despite public statements to the contrary, airstrikes against islamic state, held refineries had not significantly weakened the terrorist group's finances because it had built makeshift refineries to sell oil on the black market.\",\n",
              " 'But the finding was not distributed outside central command, the times reported in september.',\n",
              " \"Centcom's commander then gen lloyd j. Austin iii came under criticism last year after senate, testimony viewed by many lawmakers as being an overly positive assessment of the war.\",\n",
              " 'General austin retired in april and was replaced at central command by gen. Joseph l, votel.',\n",
              " \"U. S, wins. 4Th straight in women's field, hockey setting up showdown with britain.\",\n",
              " \"One day after scoring three goals in a 6 1 victory over japan, katie, bam, scored the first two goals for the united states, women's field, hockey team on thursday as the americans defeated india, 3 0.\",\n",
              " 'Five goals in two games should be a memorable feat. But bam, 27 said, she was not sure if she had ever done the same thing.',\n",
              " '\"I have no clue \". She said,.',\n",
              " \"I'm, not really one of those people who keeps track of their goals.\",\n",
              " 'Here is what she does know, the americans are 4 0 in the olympic tournament and are tied for first place in their group with britain, which remained unbeaten after defeating, japan 2, 0 on thursday,.',\n",
              " 'Britain and the united states will meet on saturday in the last game of the first round.',\n",
              " 'Both teams have qualified for the quarter finals. And the game will decide who finishes first in their six team bracket and who finishes second.',\n",
              " 'The first place finisher will avoid the powerful dutch the leaders of the other bracket for a bit longer when the quarter finals begin.',\n",
              " \"However, saturday's game turns out the americans have created a stir with their surprising run here. Four years after finishing last among 12 teams at the london games.\",\n",
              " 'Bam was on that team.',\n",
              " 'She grew up in blue bell, pa first, picked up a field hockey stick when she was 3 (her twin older sisters, played the sport at drexel) and joined the national team when she was 16 becoming its youngest player ever.',\n",
              " 'She missed out on the 2008 olympics when she did not make the cut for the final roster.',\n",
              " 'Then came 2012 when nothing much went right for her and her teammates.',\n",
              " 'The next year, craig parnham, an englishman was named the coach and things began to change.',\n",
              " '\"A cultural change a mental change a physical change, \", bam, said,.',\n",
              " \"We didn't have the work rate in london that we have now.\",\n",
              " \"We've made a complete turnaround.\",\n",
              " 'On thursday night, bam opened the scoring in the first half with a backhand shot from close in.',\n",
              " 'India had come into the game without a victory in the tournament. But the team proved surprisingly, tough and kept the score 1 0 until late in the third period when bam took charge.',\n",
              " 'She made a long run with the ball down, the left side of the field, then curled into the middle and whipped the ball into the goal to give the americans. A 2 0 lead.',\n",
              " 'Melissa gonzalez, added the final goal, midway through the fourth period.',\n",
              " 'The shutout was the first of the tournament for the united states goalie. Jackie briggs who had allowed one goal in each of the first three victories.',\n",
              " 'She is on a roll.',\n",
              " 'So is, bam,.',\n",
              " '\"We\\'re in a good place right now, \" parnham said, but just how good it is will depend on the result of saturday\\'s game.',\n",
              " 'Amid the fury of the olympics, the zen of the trampoline.',\n",
              " 'Wherever you are whatever time it is, it is the olympics.',\n",
              " 'The events in rio de janeiro feel constant and inescapable a furious, relay of competition and striving.',\n",
              " 'It is as if the olympic torch itself were a flaming baton passed from archer to swimmer to gymnast to triathlete.',\n",
              " \"You can't turn on a television read a newspaper or listen in on your neighbor's conversation in a coffee shop line without hearing about simone biles, katie ledecky or the feud between michael phelps and chad le clos.\",\n",
              " 'And then there is logan dooley.',\n",
              " 'Mr dooley a first time olympian and a dimpled heartthrob in the making may well be among those household names being showcased in prime time, buoyed by sponsorships and feel good tv commercials. If he were a swimmer, a gymnast or even a fencer.',\n",
              " 'But mr dooley 28 of lake forest calif is competing for the gold in olympic trampoline.',\n",
              " 'The olympic flame does not illuminate each event equally.',\n",
              " 'Further from the center, partly in shadow are those sports. Not universally acknowledged air, pistol shooting archery, badminton taekwondo.',\n",
              " 'We will always have the breaststroke and long may it reign.',\n",
              " 'But if I may make a modest case for my particular favorite, let me call attention to the discreet charm of the trampoline.',\n",
              " 'Though trampoline has been an olympic event since 2000, when it debuted at the sydney games, it has spent the intervening 16 years. So barely acknowledged that many I surveyed did not realize it was an olympic sport at all.',\n",
              " 'This may be a regional ignorance.',\n",
              " 'Despite sending athletes to compete, the united states has never won a medal in trampoline and did not have an athlete advance to the finals until 2012.',\n",
              " 'The chinese and the russians tend to split the prizes for the men and the chinese and the canadians for the women.',\n",
              " 'Dong dong of china and rosie maclennan of canada will be defending their london gold medals this year.',\n",
              " 'But there is an underdog charm to trampoline in part, because it sounds to the unenlightened ear fitter for clown college than the olympics.',\n",
              " 'Here, I should confess that I am no expert just an earthbound enthusiast.',\n",
              " 'It does have comic potential the cartoon quaver of its never ending bounce. But also the grace of gymnastics and diving the two sports. It essentially combines.',\n",
              " 'The word \"trampoline\" derives from the spanish el trampolín, meaning \"diving board, \".',\n",
              " 'Aspiring champions jump on a giant trampoline, shooting up to nearly 30 feet in the air and are called upon to perform a series of tumbling moves, (twists, pikes and somersaults) before eventually landing on their feet.',\n",
              " 'They are judged on execution difficulty and \"flight time \" according to the official olympic program.',\n",
              " 'Thirty two athletes from 17 countries, 16 men and 16 women will compete in rio.',\n",
              " 'The most common olympic vector is straight ahead.',\n",
              " 'Medal hopefuls must go farther faster up and over in their quest for gold sometimes to the finish other times back and forth up and down the court.',\n",
              " 'They are chasing not only the finish line or the starting wall. But also in the televised coverage, another taunting line that of the world or olympic record.',\n",
              " 'This single minded pursuit is noble admirable even fanatic. And it is enough to bring even a spectator to tears.',\n",
              " 'But it is also what I find slightly exhausting about even watching the games.',\n",
              " 'From this trampoline offers a respite.',\n",
              " \"The trampoliner's vector is up.\",\n",
              " 'Forward motion is not the goal.',\n",
              " 'He or she rebounds seeming weightless as an astronaut going up, then down then effortlessly up again,.',\n",
              " 'It is not without competition, of course, nor without difficulty. But for the duration of a routine there is no frantic charge toward the end, no vaulting into the distance, just the dreamy graceful suspension of time and gravity.',\n",
              " 'It is as close to zen as olympic competition, gets.',\n",
              " \"The women's qualifiers and then finals will take place on friday afternoon, streaming at 1 p, m, eastern time, the men's on saturday, also at 1.\",\n",
              " 'Nbc will air the finals as part of an afternoon block beginning at 2 p, m on both days,.',\n",
              " 'In the midst of olympic mania, they promise a quiet lovely moment, one likely to be overlooked in the general melee.',\n",
              " \"And if consciousness raising is to be achieved only by offering up male athletes for ogling and objectification as the united states, men's gymnasts recently proposed according to the wall street journal, mr dooley only awaits his gasping, new fan base.\",\n",
              " '\"A generation is protesting\" in ethiopia long a u. S, ally.',\n",
              " 'Violent protests in ethiopia,.',\n",
              " 'Demonstrators, demanding political change in ethiopia have been met with violent resistance by the government.',\n",
              " 'Witnesses, say that scores of protesters have been fatally shot during clashes with police.',\n",
              " 'Is ethiopia about to crack.',\n",
              " \"For the last decade, it has been one africa's most stable nations, a solid western ally with a fast growing economy.\",\n",
              " 'But in recent months, anti government protests have convulsed the country spreading into more and more areas.',\n",
              " 'In the last week alone, thousands of people stormed into the streets, demanding fundamental political change.',\n",
              " 'The government response according to human rights groups was ruthless.',\n",
              " 'Witnesses said that police officers shot and killed scores of unarmed demonstrators.',\n",
              " 'Videos circulating from protests thought to be from late last year or earlier this year show security officers whipping young people with sticks as they were forced to perform handstands against a wall.',\n",
              " 'The top united nations human rights official is now calling for a thorough investigation.',\n",
              " '\"It was always difficult holding this country together and moving forward. It will be even harder. \" said, rashid abdi, the horn of africa project director for the international crisis group, a research group.',\n",
              " 'Ethiopia is the second most populous nation in africa after nigeria and its stability is cherished by the west.',\n",
              " 'American military and intelligence services work closely with the ethiopians to combat terrorist threats across the region, especially in somalia and few if any countries in africa receive as much western aid,.',\n",
              " \"Ethiopia's economy has been expanding at an impressive clip.\",\n",
              " 'Its infrastructure has improved drastically. There is even a new commuter train in the capital, addis ababa.',\n",
              " 'And its streets are typically quiet safe and clean.',\n",
              " \"Though ethiopia has hardly been a paragon of democracy. Human rights groups have constantly cited the government's repressiveness opposition within the country had been limited with dissidents effectively silenced.\",\n",
              " 'Many have been exiled, jailed killed or driven to the far reaches of the desert.',\n",
              " 'But that may be changing.',\n",
              " '\"If, you suffocate people and they don\\'t have any other options. But to protest, it breaks out \" said, seyoum, teshome, a university lecturer in central ethiopia.',\n",
              " 'The whole youth is protesting.',\n",
              " 'A generation is protesting.',\n",
              " \"The complaints are many covering everything from land use to the governing coalition's stranglehold on power.\",\n",
              " 'After a widely criticized election last year, the governing party and its allies got the last seat, the opposition had held and now control, 100 percent of the parliament.',\n",
              " 'At the same time, tensions are rising along the border with eritrea, a battle along that jagged disputed line claimed hundreds of lives in june.',\n",
              " ...]"
            ]
          },
          "metadata": {
            "tags": []
          },
          "execution_count": 26
        }
      ]
    },
    {
      "cell_type": "code",
      "metadata": {
        "id": "hCuSdk3oE6wb"
      },
      "source": [
        ""
      ],
      "execution_count": null,
      "outputs": []
    },
    {
      "cell_type": "markdown",
      "metadata": {
        "id": "DL8dihIWHxqY"
      },
      "source": [
        "## Calculating"
      ]
    },
    {
      "cell_type": "code",
      "metadata": {
        "id": "G5EHUPusF0Z6"
      },
      "source": [
        "MAPPING = {\r\n",
        "    \",\":1,\r\n",
        "    \".\":2,\r\n",
        "    \"!\":3,\r\n",
        "    \"?\":4,\r\n",
        "    \";\":5,\r\n",
        "    \":\":6,\r\n",
        "}"
      ],
      "execution_count": null,
      "outputs": []
    },
    {
      "cell_type": "code",
      "metadata": {
        "colab": {
          "base_uri": "https://localhost:8080/"
        },
        "id": "SFCWd0GHF0YQ",
        "outputId": "c3df3a72-0c30-4627-e4a3-2c3c497655c5"
      },
      "source": [
        "MAPPING.keys()"
      ],
      "execution_count": null,
      "outputs": [
        {
          "output_type": "execute_result",
          "data": {
            "text/plain": [
              "dict_keys([',', '.', '!', '?', ';', ':'])"
            ]
          },
          "metadata": {
            "tags": []
          },
          "execution_count": 28
        }
      ]
    },
    {
      "cell_type": "code",
      "metadata": {
        "id": "Aa7buEB8Hzc_",
        "colab": {
          "base_uri": "https://localhost:8080/",
          "height": 91
        },
        "outputId": "c89ff64c-b4a8-4b23-f15b-1a335349f83d"
      },
      "source": [
        "import re\r\n",
        "\r\n",
        "def _split_txt(txt):\r\n",
        "    \"\"\"\r\n",
        "    Split texts based on words and punctuations\r\n",
        "    \"\"\"\r\n",
        "    return re.findall(r\"[\\w']+|[.,!?;:]\", txt)\r\n",
        "\r\n",
        "def assign_labels(txt):\r\n",
        "    \"\"\"\r\n",
        "    assign labels to splitted text\r\n",
        "    \"\"\"\r\n",
        "    mapped_ = [0] * len(txt)\r\n",
        "    mapped = [MAPPING[tx] if tx in MAPPING.keys() else 0 for tx in txt]\r\n",
        "    \r\n",
        "    return mapped\r\n",
        "\r\n",
        "\r\n",
        "\"\"\"\r\n",
        "def _remove_other_labels(mapped):\r\n",
        "    #For classification approach\r\n",
        "    tgt_mapped = []\r\n",
        "    for i in range(len(mapped)-1):\r\n",
        "        if mapped[i]==0 and mapped[i+1]!=0:\r\n",
        "            continue\r\n",
        "        tgt_mapped.append(mapped[i])      \r\n",
        "    return tgt_mapped\r\n",
        "\r\n",
        "\"\"\""
      ],
      "execution_count": null,
      "outputs": [
        {
          "output_type": "execute_result",
          "data": {
            "application/vnd.google.colaboratory.intrinsic+json": {
              "type": "string"
            },
            "text/plain": [
              "'\\ndef _remove_other_labels(mapped):\\n    #For classification approach\\n    tgt_mapped = []\\n    for i in range(len(mapped)-1):\\n        if mapped[i]==0 and mapped[i+1]!=0:\\n            continue\\n        tgt_mapped.append(mapped[i])      \\n    return tgt_mapped\\n\\n'"
            ]
          },
          "metadata": {
            "tags": []
          },
          "execution_count": 30
        }
      ]
    },
    {
      "cell_type": "code",
      "metadata": {
        "id": "2ObtooSaHzaH"
      },
      "source": [
        "gold = [assign_labels(_split_txt(_txt)) for _txt in lines]\r\n",
        "bart = [assign_labels(_split_txt(_txt)) for _txt in bart_preds]\r\n",
        "lstm = [assign_labels(_split_txt(_txt)) for _txt in lstm_preds]"
      ],
      "execution_count": null,
      "outputs": []
    },
    {
      "cell_type": "code",
      "metadata": {
        "id": "BYjj7PVtGhuH"
      },
      "source": [
        ""
      ],
      "execution_count": null,
      "outputs": []
    },
    {
      "cell_type": "code",
      "metadata": {
        "id": "B4XyhJuYGb3E"
      },
      "source": [
        "pd.DataFrame({\"input\":dest, \r\n",
        "              \"bart\":bart_preds,\r\n",
        "              \"punctuator2\":lstm_preds,\r\n",
        "              \"GT\":lines}).to_csv(\"results.csv\", header=True)"
      ],
      "execution_count": null,
      "outputs": []
    },
    {
      "cell_type": "code",
      "metadata": {
        "id": "G03P7NNZH3WP"
      },
      "source": [
        "assert len(gold) == len(bart)\r\n",
        "assert len(gold) == len(lstm)"
      ],
      "execution_count": null,
      "outputs": []
    },
    {
      "cell_type": "code",
      "metadata": {
        "colab": {
          "base_uri": "https://localhost:8080/"
        },
        "id": "j1d8hDdMKuEz",
        "outputId": "6da4e4cc-6481-4c2e-8b75-03520b722658"
      },
      "source": [
        "print(f\"{gold[5]}\\n{bart[5]}\\n{lstm[5]}\")"
      ],
      "execution_count": null,
      "outputs": [
        {
          "output_type": "stream",
          "text": [
            "[0, 0, 0, 1, 0, 0, 1, 0, 0, 0, 0, 0, 0, 0, 0, 0, 1, 0, 0, 0, 0, 0, 0, 1, 0, 0, 0, 0, 0, 0, 0, 0, 0, 0, 0, 0, 0, 0, 0, 0, 0, 2]\n",
            "[0, 0, 0, 0, 0, 0, 0, 0, 0, 0, 0, 0, 0, 0, 1, 0, 0, 0, 0, 0, 0, 1, 0, 0, 0, 0, 0, 0, 0, 0, 0, 0, 0, 0, 0, 0, 0, 0, 0, 2]\n",
            "[0, 0, 0, 0, 0, 0, 0, 0, 0, 0, 0, 0, 0, 0, 0, 0, 0, 0, 0, 0, 0, 0, 0, 0, 0, 0, 0, 0, 0, 0, 0, 0, 0, 1, 0, 1, 0, 0, 0, 1, 2]\n"
          ],
          "name": "stdout"
        }
      ]
    },
    {
      "cell_type": "code",
      "metadata": {
        "id": "iw-VuPDHM-ny"
      },
      "source": [
        ""
      ],
      "execution_count": null,
      "outputs": []
    },
    {
      "cell_type": "code",
      "metadata": {
        "id": "z7gXTdTtLFML"
      },
      "source": [
        "from sklearn.metrics import precision_recall_fscore_support\r\n",
        "from sklearn.preprocessing import MultiLabelBinarizer"
      ],
      "execution_count": null,
      "outputs": []
    },
    {
      "cell_type": "code",
      "metadata": {
        "id": "FA955bzkLFKB"
      },
      "source": [
        "m = MultiLabelBinarizer().fit(gold)"
      ],
      "execution_count": null,
      "outputs": []
    },
    {
      "cell_type": "code",
      "metadata": {
        "id": "srD-5FKILGd4"
      },
      "source": [
        "res = precision_recall_fscore_support(m.transform(gold), m.transform(bart), average=None)\r\n",
        "bart_scores = pd.DataFrame(res, columns=list(MAPPING.keys())+[\"overall\"])"
      ],
      "execution_count": null,
      "outputs": []
    },
    {
      "cell_type": "code",
      "metadata": {
        "colab": {
          "base_uri": "https://localhost:8080/"
        },
        "id": "bHgAAwtBLGbp",
        "outputId": "24ede578-bddf-491b-c802-ab83d4b33629"
      },
      "source": [
        "res = precision_recall_fscore_support(m.transform(gold), m.transform(lstm), average=None)\r\n",
        "\r\n",
        "lstm_scores = pd.DataFrame(res, columns=list(MAPPING.keys())+[\"overall\"])"
      ],
      "execution_count": null,
      "outputs": [
        {
          "output_type": "stream",
          "text": [
            "/usr/local/lib/python3.6/dist-packages/sklearn/metrics/_classification.py:1272: UndefinedMetricWarning: Precision and F-score are ill-defined and being set to 0.0 in labels with no predicted samples. Use `zero_division` parameter to control this behavior.\n",
            "  _warn_prf(average, modifier, msg_start, len(result))\n"
          ],
          "name": "stderr"
        }
      ]
    },
    {
      "cell_type": "code",
      "metadata": {
        "colab": {
          "base_uri": "https://localhost:8080/"
        },
        "id": "---zg9IcLlIp",
        "outputId": "5b4263f7-4428-4b29-8409-4749ca6e68bd"
      },
      "source": [
        "list(MAPPING.keys())"
      ],
      "execution_count": null,
      "outputs": [
        {
          "output_type": "execute_result",
          "data": {
            "text/plain": [
              "[',', '.', '!', '?', ';', ':']"
            ]
          },
          "metadata": {
            "tags": []
          },
          "execution_count": 38
        }
      ]
    },
    {
      "cell_type": "code",
      "metadata": {
        "colab": {
          "base_uri": "https://localhost:8080/",
          "height": 269
        },
        "id": "2EkeuRBeLqvI",
        "outputId": "e7614c78-1072-4e12-d273-b87f07fe9d08"
      },
      "source": [
        "bart_scores.T"
      ],
      "execution_count": null,
      "outputs": [
        {
          "output_type": "execute_result",
          "data": {
            "text/html": [
              "<div>\n",
              "<style scoped>\n",
              "    .dataframe tbody tr th:only-of-type {\n",
              "        vertical-align: middle;\n",
              "    }\n",
              "\n",
              "    .dataframe tbody tr th {\n",
              "        vertical-align: top;\n",
              "    }\n",
              "\n",
              "    .dataframe thead th {\n",
              "        text-align: right;\n",
              "    }\n",
              "</style>\n",
              "<table border=\"1\" class=\"dataframe\">\n",
              "  <thead>\n",
              "    <tr style=\"text-align: right;\">\n",
              "      <th></th>\n",
              "      <th>0</th>\n",
              "      <th>1</th>\n",
              "      <th>2</th>\n",
              "      <th>3</th>\n",
              "    </tr>\n",
              "  </thead>\n",
              "  <tbody>\n",
              "    <tr>\n",
              "      <th>,</th>\n",
              "      <td>1.000000</td>\n",
              "      <td>1.000000</td>\n",
              "      <td>1.000000</td>\n",
              "      <td>3007.0</td>\n",
              "    </tr>\n",
              "    <tr>\n",
              "      <th>.</th>\n",
              "      <td>0.923992</td>\n",
              "      <td>0.808092</td>\n",
              "      <td>0.862165</td>\n",
              "      <td>1730.0</td>\n",
              "    </tr>\n",
              "    <tr>\n",
              "      <th>!</th>\n",
              "      <td>0.925158</td>\n",
              "      <td>0.970512</td>\n",
              "      <td>0.947293</td>\n",
              "      <td>2713.0</td>\n",
              "    </tr>\n",
              "    <tr>\n",
              "      <th>?</th>\n",
              "      <td>0.000000</td>\n",
              "      <td>0.000000</td>\n",
              "      <td>0.000000</td>\n",
              "      <td>30.0</td>\n",
              "    </tr>\n",
              "    <tr>\n",
              "      <th>;</th>\n",
              "      <td>0.787234</td>\n",
              "      <td>0.840909</td>\n",
              "      <td>0.813187</td>\n",
              "      <td>44.0</td>\n",
              "    </tr>\n",
              "    <tr>\n",
              "      <th>:</th>\n",
              "      <td>0.120000</td>\n",
              "      <td>0.103448</td>\n",
              "      <td>0.111111</td>\n",
              "      <td>29.0</td>\n",
              "    </tr>\n",
              "    <tr>\n",
              "      <th>overall</th>\n",
              "      <td>0.249110</td>\n",
              "      <td>0.534351</td>\n",
              "      <td>0.339806</td>\n",
              "      <td>131.0</td>\n",
              "    </tr>\n",
              "  </tbody>\n",
              "</table>\n",
              "</div>"
            ],
            "text/plain": [
              "                0         1         2       3\n",
              ",        1.000000  1.000000  1.000000  3007.0\n",
              ".        0.923992  0.808092  0.862165  1730.0\n",
              "!        0.925158  0.970512  0.947293  2713.0\n",
              "?        0.000000  0.000000  0.000000    30.0\n",
              ";        0.787234  0.840909  0.813187    44.0\n",
              ":        0.120000  0.103448  0.111111    29.0\n",
              "overall  0.249110  0.534351  0.339806   131.0"
            ]
          },
          "metadata": {
            "tags": []
          },
          "execution_count": 39
        }
      ]
    },
    {
      "cell_type": "code",
      "metadata": {
        "colab": {
          "base_uri": "https://localhost:8080/",
          "height": 269
        },
        "id": "3EZrrA2wPiIW",
        "outputId": "00b14a0d-2c53-4d98-acbb-a6e9ce1d1d1b"
      },
      "source": [
        "#second BRNN lstm model\r\n",
        "lstm_scores.T"
      ],
      "execution_count": null,
      "outputs": [
        {
          "output_type": "execute_result",
          "data": {
            "text/html": [
              "<div>\n",
              "<style scoped>\n",
              "    .dataframe tbody tr th:only-of-type {\n",
              "        vertical-align: middle;\n",
              "    }\n",
              "\n",
              "    .dataframe tbody tr th {\n",
              "        vertical-align: top;\n",
              "    }\n",
              "\n",
              "    .dataframe thead th {\n",
              "        text-align: right;\n",
              "    }\n",
              "</style>\n",
              "<table border=\"1\" class=\"dataframe\">\n",
              "  <thead>\n",
              "    <tr style=\"text-align: right;\">\n",
              "      <th></th>\n",
              "      <th>0</th>\n",
              "      <th>1</th>\n",
              "      <th>2</th>\n",
              "      <th>3</th>\n",
              "    </tr>\n",
              "  </thead>\n",
              "  <tbody>\n",
              "    <tr>\n",
              "      <th>,</th>\n",
              "      <td>1.000000</td>\n",
              "      <td>1.000000</td>\n",
              "      <td>1.000000</td>\n",
              "      <td>3007.0</td>\n",
              "    </tr>\n",
              "    <tr>\n",
              "      <th>.</th>\n",
              "      <td>0.746083</td>\n",
              "      <td>0.798266</td>\n",
              "      <td>0.771293</td>\n",
              "      <td>1730.0</td>\n",
              "    </tr>\n",
              "    <tr>\n",
              "      <th>!</th>\n",
              "      <td>0.902228</td>\n",
              "      <td>1.000000</td>\n",
              "      <td>0.948601</td>\n",
              "      <td>2713.0</td>\n",
              "    </tr>\n",
              "    <tr>\n",
              "      <th>?</th>\n",
              "      <td>0.000000</td>\n",
              "      <td>0.000000</td>\n",
              "      <td>0.000000</td>\n",
              "      <td>30.0</td>\n",
              "    </tr>\n",
              "    <tr>\n",
              "      <th>;</th>\n",
              "      <td>0.666667</td>\n",
              "      <td>0.045455</td>\n",
              "      <td>0.085106</td>\n",
              "      <td>44.0</td>\n",
              "    </tr>\n",
              "    <tr>\n",
              "      <th>:</th>\n",
              "      <td>0.000000</td>\n",
              "      <td>0.000000</td>\n",
              "      <td>0.000000</td>\n",
              "      <td>29.0</td>\n",
              "    </tr>\n",
              "    <tr>\n",
              "      <th>overall</th>\n",
              "      <td>0.000000</td>\n",
              "      <td>0.000000</td>\n",
              "      <td>0.000000</td>\n",
              "      <td>131.0</td>\n",
              "    </tr>\n",
              "  </tbody>\n",
              "</table>\n",
              "</div>"
            ],
            "text/plain": [
              "                0         1         2       3\n",
              ",        1.000000  1.000000  1.000000  3007.0\n",
              ".        0.746083  0.798266  0.771293  1730.0\n",
              "!        0.902228  1.000000  0.948601  2713.0\n",
              "?        0.000000  0.000000  0.000000    30.0\n",
              ";        0.666667  0.045455  0.085106    44.0\n",
              ":        0.000000  0.000000  0.000000    29.0\n",
              "overall  0.000000  0.000000  0.000000   131.0"
            ]
          },
          "metadata": {
            "tags": []
          },
          "execution_count": 40
        }
      ]
    },
    {
      "cell_type": "code",
      "metadata": {
        "id": "ZE0P0_dgPiCJ"
      },
      "source": [
        ""
      ],
      "execution_count": null,
      "outputs": []
    },
    {
      "cell_type": "code",
      "metadata": {
        "colab": {
          "base_uri": "https://localhost:8080/",
          "height": 269
        },
        "id": "2hsvxDjpLUmH",
        "outputId": "1adc7077-f53c-41f6-e558-daf946f7c9ab"
      },
      "source": [
        "#first Europarl-EN lstm model\r\n",
        "lstm_scores.T"
      ],
      "execution_count": null,
      "outputs": [
        {
          "output_type": "execute_result",
          "data": {
            "text/html": [
              "<div>\n",
              "<style scoped>\n",
              "    .dataframe tbody tr th:only-of-type {\n",
              "        vertical-align: middle;\n",
              "    }\n",
              "\n",
              "    .dataframe tbody tr th {\n",
              "        vertical-align: top;\n",
              "    }\n",
              "\n",
              "    .dataframe thead th {\n",
              "        text-align: right;\n",
              "    }\n",
              "</style>\n",
              "<table border=\"1\" class=\"dataframe\">\n",
              "  <thead>\n",
              "    <tr style=\"text-align: right;\">\n",
              "      <th></th>\n",
              "      <th>0</th>\n",
              "      <th>1</th>\n",
              "      <th>2</th>\n",
              "      <th>3</th>\n",
              "    </tr>\n",
              "  </thead>\n",
              "  <tbody>\n",
              "    <tr>\n",
              "      <th>,</th>\n",
              "      <td>1.000000</td>\n",
              "      <td>1.000000</td>\n",
              "      <td>1.000000</td>\n",
              "      <td>3007.0</td>\n",
              "    </tr>\n",
              "    <tr>\n",
              "      <th>.</th>\n",
              "      <td>0.746083</td>\n",
              "      <td>0.798266</td>\n",
              "      <td>0.771293</td>\n",
              "      <td>1730.0</td>\n",
              "    </tr>\n",
              "    <tr>\n",
              "      <th>!</th>\n",
              "      <td>0.902228</td>\n",
              "      <td>1.000000</td>\n",
              "      <td>0.948601</td>\n",
              "      <td>2713.0</td>\n",
              "    </tr>\n",
              "    <tr>\n",
              "      <th>?</th>\n",
              "      <td>0.000000</td>\n",
              "      <td>0.000000</td>\n",
              "      <td>0.000000</td>\n",
              "      <td>30.0</td>\n",
              "    </tr>\n",
              "    <tr>\n",
              "      <th>;</th>\n",
              "      <td>0.666667</td>\n",
              "      <td>0.045455</td>\n",
              "      <td>0.085106</td>\n",
              "      <td>44.0</td>\n",
              "    </tr>\n",
              "    <tr>\n",
              "      <th>:</th>\n",
              "      <td>0.000000</td>\n",
              "      <td>0.000000</td>\n",
              "      <td>0.000000</td>\n",
              "      <td>29.0</td>\n",
              "    </tr>\n",
              "    <tr>\n",
              "      <th>overall</th>\n",
              "      <td>0.000000</td>\n",
              "      <td>0.000000</td>\n",
              "      <td>0.000000</td>\n",
              "      <td>131.0</td>\n",
              "    </tr>\n",
              "  </tbody>\n",
              "</table>\n",
              "</div>"
            ],
            "text/plain": [
              "                0         1         2       3\n",
              ",        1.000000  1.000000  1.000000  3007.0\n",
              ".        0.746083  0.798266  0.771293  1730.0\n",
              "!        0.902228  1.000000  0.948601  2713.0\n",
              "?        0.000000  0.000000  0.000000    30.0\n",
              ";        0.666667  0.045455  0.085106    44.0\n",
              ":        0.000000  0.000000  0.000000    29.0\n",
              "overall  0.000000  0.000000  0.000000   131.0"
            ]
          },
          "metadata": {
            "tags": []
          },
          "execution_count": 41
        }
      ]
    },
    {
      "cell_type": "code",
      "metadata": {
        "id": "BXpmtRLwLkKm"
      },
      "source": [
        ""
      ],
      "execution_count": null,
      "outputs": []
    },
    {
      "cell_type": "code",
      "metadata": {
        "id": "ONRHSo-_LhZB"
      },
      "source": [
        ""
      ],
      "execution_count": null,
      "outputs": []
    }
  ]
}